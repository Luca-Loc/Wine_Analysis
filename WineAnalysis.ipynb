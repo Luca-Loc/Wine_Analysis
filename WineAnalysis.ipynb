{
 "cells": [
  {
   "cell_type": "markdown",
   "id": "9a795543",
   "metadata": {},
   "source": [
    "# ***Progetto Python con Pandas***"
   ]
  },
  {
   "cell_type": "markdown",
   "id": "f9473bcc",
   "metadata": {},
   "source": [
    "### Introduzione all'analisi esplorativa del dataset di vini"
   ]
  },
  {
   "cell_type": "markdown",
   "id": "b2c598bd",
   "metadata": {},
   "source": [
    "Questo progetto di analisi dati si concentra su un ampio dataset di recensioni di vini provenienti da diverse regioni vinicole di tutto il mondo. I dati comprendono una vasta gamma di informazioni sulle recensioni di vini, quali paese di produzione, la regione, la varietà, il punteggio e molto altro.\n",
    "\n",
    "Questi dati sono la chiave per comprendere la complessità e varietà del mondo del vino. L'obiettivo primario è quello di utilizzare approcci analitici, tecniche di elaborazione e visualizzazione dati, per poter esplorare e interpretare i dati a nostra disposizione. Il risultato sarà una guida all'assortimento, che consentirà di iniziare a plasmare un ipotetico marketplace di vini italiani in modo informato e strategico."
   ]
  },
  {
   "cell_type": "markdown",
   "id": "c871836e",
   "metadata": {},
   "source": [
    "### Obiettivi dell'analisi\n",
    "Il cuore di questo progetto sarà incentrato su vari aspetti chiave che informeranno la strategia dell'assortimento per il nostro ipotetico marketplace di vino.\n",
    "\n",
    "*Gli obiettivi principali includono*: \n",
    "- ***Identificazione delle Varietà di Vino e Vigne più Apprezzate***:le varietà di vino più apprezzate dagli acquirenti, basandoci sui punteggi delle recensioni.\n",
    "\n",
    "- ***Analisi degli Outlier di Prezzo***: eventuali valori anomali nel prezzo dei vini, che potrebbero influire sull'aspetto economico dell'assortimento.\n",
    "\n",
    "- ***Correlazione tra Variabili***: esplorare le correlazioni tra varie caratteristiche del vino come punteggio, prezzo."
   ]
  },
  {
   "cell_type": "markdown",
   "id": "9f3252de",
   "metadata": {},
   "source": [
    "### Struttura del notebook\n",
    "Questo progetto di analisi sarà articolato in due distinti capitoli, ciascuno con un preciso obiettivo. Nella prima parte esaminerò il panorama vinicolo nel suo insieme con uno sguardo attento alle varietà di vino più apprezzate, alle rinomate vigne,agli interessanti outlier di prezzo e alle correlazioni tra le variabili.\n",
    "\n",
    "Nel secondo capitolo, passando dall'esplorazione all'azione, mi concentrerò sulla strategia di assortimento per un ipotetico marketplace di vini italiani. Guidato da condizioni ben definite, selezionerò con cura i vini destinati ad arricchire l'offerta del nostro marketplace. Questa parte sarà una sorta di viaggio strategico tra le diverse variabili del mondo del vino, affinchè possiamo offrire ai nostri ipotetici clienti un'esperienza degna degli intenditori più esigenti."
   ]
  },
  {
   "cell_type": "markdown",
   "id": "e2ceafdd",
   "metadata": {},
   "source": [
    "## Parte1. Analisi del dataset"
   ]
  },
  {
   "cell_type": "code",
   "execution_count": 226,
   "id": "0a07584b",
   "metadata": {},
   "outputs": [],
   "source": [
    "# import libraries\n",
    "import pandas as pd\n",
    "import numpy as np\n",
    "import matplotlib.pyplot as plt\n",
    "import seaborn as sns\n",
    "import plotly.express as px\n",
    "%matplotlib inline"
   ]
  },
  {
   "cell_type": "code",
   "execution_count": 227,
   "id": "c58321c6",
   "metadata": {},
   "outputs": [],
   "source": [
    "# data import\n",
    "data = pd.read_csv(\"winemag-data-130k-v2.csv\")"
   ]
  },
  {
   "cell_type": "code",
   "execution_count": 228,
   "id": "d841f47d",
   "metadata": {},
   "outputs": [
    {
     "data": {
      "text/html": [
       "<div>\n",
       "<style scoped>\n",
       "    .dataframe tbody tr th:only-of-type {\n",
       "        vertical-align: middle;\n",
       "    }\n",
       "\n",
       "    .dataframe tbody tr th {\n",
       "        vertical-align: top;\n",
       "    }\n",
       "\n",
       "    .dataframe thead th {\n",
       "        text-align: right;\n",
       "    }\n",
       "</style>\n",
       "<table border=\"1\" class=\"dataframe\">\n",
       "  <thead>\n",
       "    <tr style=\"text-align: right;\">\n",
       "      <th></th>\n",
       "      <th>Unnamed: 0</th>\n",
       "      <th>country</th>\n",
       "      <th>description</th>\n",
       "      <th>designation</th>\n",
       "      <th>points</th>\n",
       "      <th>price</th>\n",
       "      <th>province</th>\n",
       "      <th>region_1</th>\n",
       "      <th>region_2</th>\n",
       "      <th>taster_name</th>\n",
       "      <th>taster_twitter_handle</th>\n",
       "      <th>title</th>\n",
       "      <th>variety</th>\n",
       "      <th>winery</th>\n",
       "    </tr>\n",
       "  </thead>\n",
       "  <tbody>\n",
       "    <tr>\n",
       "      <th>0</th>\n",
       "      <td>0</td>\n",
       "      <td>Italy</td>\n",
       "      <td>Aromas include tropical fruit, broom, brimston...</td>\n",
       "      <td>Vulkà Bianco</td>\n",
       "      <td>87</td>\n",
       "      <td>NaN</td>\n",
       "      <td>Sicily &amp; Sardinia</td>\n",
       "      <td>Etna</td>\n",
       "      <td>NaN</td>\n",
       "      <td>Kerin O’Keefe</td>\n",
       "      <td>@kerinokeefe</td>\n",
       "      <td>Nicosia 2013 Vulkà Bianco  (Etna)</td>\n",
       "      <td>White Blend</td>\n",
       "      <td>Nicosia</td>\n",
       "    </tr>\n",
       "    <tr>\n",
       "      <th>1</th>\n",
       "      <td>1</td>\n",
       "      <td>Portugal</td>\n",
       "      <td>This is ripe and fruity, a wine that is smooth...</td>\n",
       "      <td>Avidagos</td>\n",
       "      <td>87</td>\n",
       "      <td>15.0</td>\n",
       "      <td>Douro</td>\n",
       "      <td>NaN</td>\n",
       "      <td>NaN</td>\n",
       "      <td>Roger Voss</td>\n",
       "      <td>@vossroger</td>\n",
       "      <td>Quinta dos Avidagos 2011 Avidagos Red (Douro)</td>\n",
       "      <td>Portuguese Red</td>\n",
       "      <td>Quinta dos Avidagos</td>\n",
       "    </tr>\n",
       "    <tr>\n",
       "      <th>2</th>\n",
       "      <td>2</td>\n",
       "      <td>US</td>\n",
       "      <td>Tart and snappy, the flavors of lime flesh and...</td>\n",
       "      <td>NaN</td>\n",
       "      <td>87</td>\n",
       "      <td>14.0</td>\n",
       "      <td>Oregon</td>\n",
       "      <td>Willamette Valley</td>\n",
       "      <td>Willamette Valley</td>\n",
       "      <td>Paul Gregutt</td>\n",
       "      <td>@paulgwine</td>\n",
       "      <td>Rainstorm 2013 Pinot Gris (Willamette Valley)</td>\n",
       "      <td>Pinot Gris</td>\n",
       "      <td>Rainstorm</td>\n",
       "    </tr>\n",
       "    <tr>\n",
       "      <th>3</th>\n",
       "      <td>3</td>\n",
       "      <td>US</td>\n",
       "      <td>Pineapple rind, lemon pith and orange blossom ...</td>\n",
       "      <td>Reserve Late Harvest</td>\n",
       "      <td>87</td>\n",
       "      <td>13.0</td>\n",
       "      <td>Michigan</td>\n",
       "      <td>Lake Michigan Shore</td>\n",
       "      <td>NaN</td>\n",
       "      <td>Alexander Peartree</td>\n",
       "      <td>NaN</td>\n",
       "      <td>St. Julian 2013 Reserve Late Harvest Riesling ...</td>\n",
       "      <td>Riesling</td>\n",
       "      <td>St. Julian</td>\n",
       "    </tr>\n",
       "    <tr>\n",
       "      <th>4</th>\n",
       "      <td>4</td>\n",
       "      <td>US</td>\n",
       "      <td>Much like the regular bottling from 2012, this...</td>\n",
       "      <td>Vintner's Reserve Wild Child Block</td>\n",
       "      <td>87</td>\n",
       "      <td>65.0</td>\n",
       "      <td>Oregon</td>\n",
       "      <td>Willamette Valley</td>\n",
       "      <td>Willamette Valley</td>\n",
       "      <td>Paul Gregutt</td>\n",
       "      <td>@paulgwine</td>\n",
       "      <td>Sweet Cheeks 2012 Vintner's Reserve Wild Child...</td>\n",
       "      <td>Pinot Noir</td>\n",
       "      <td>Sweet Cheeks</td>\n",
       "    </tr>\n",
       "  </tbody>\n",
       "</table>\n",
       "</div>"
      ],
      "text/plain": [
       "   Unnamed: 0   country                                        description  \\\n",
       "0           0     Italy  Aromas include tropical fruit, broom, brimston...   \n",
       "1           1  Portugal  This is ripe and fruity, a wine that is smooth...   \n",
       "2           2        US  Tart and snappy, the flavors of lime flesh and...   \n",
       "3           3        US  Pineapple rind, lemon pith and orange blossom ...   \n",
       "4           4        US  Much like the regular bottling from 2012, this...   \n",
       "\n",
       "                          designation  points  price           province  \\\n",
       "0                        Vulkà Bianco      87    NaN  Sicily & Sardinia   \n",
       "1                            Avidagos      87   15.0              Douro   \n",
       "2                                 NaN      87   14.0             Oregon   \n",
       "3                Reserve Late Harvest      87   13.0           Michigan   \n",
       "4  Vintner's Reserve Wild Child Block      87   65.0             Oregon   \n",
       "\n",
       "              region_1           region_2         taster_name  \\\n",
       "0                 Etna                NaN       Kerin O’Keefe   \n",
       "1                  NaN                NaN          Roger Voss   \n",
       "2    Willamette Valley  Willamette Valley        Paul Gregutt   \n",
       "3  Lake Michigan Shore                NaN  Alexander Peartree   \n",
       "4    Willamette Valley  Willamette Valley        Paul Gregutt   \n",
       "\n",
       "  taster_twitter_handle                                              title  \\\n",
       "0          @kerinokeefe                  Nicosia 2013 Vulkà Bianco  (Etna)   \n",
       "1            @vossroger      Quinta dos Avidagos 2011 Avidagos Red (Douro)   \n",
       "2           @paulgwine       Rainstorm 2013 Pinot Gris (Willamette Valley)   \n",
       "3                   NaN  St. Julian 2013 Reserve Late Harvest Riesling ...   \n",
       "4           @paulgwine   Sweet Cheeks 2012 Vintner's Reserve Wild Child...   \n",
       "\n",
       "          variety               winery  \n",
       "0     White Blend              Nicosia  \n",
       "1  Portuguese Red  Quinta dos Avidagos  \n",
       "2      Pinot Gris            Rainstorm  \n",
       "3        Riesling           St. Julian  \n",
       "4      Pinot Noir         Sweet Cheeks  "
      ]
     },
     "execution_count": 228,
     "metadata": {},
     "output_type": "execute_result"
    }
   ],
   "source": [
    "# check the first lines\n",
    "data.head()"
   ]
  },
  {
   "cell_type": "code",
   "execution_count": 229,
   "id": "72e0db1b",
   "metadata": {},
   "outputs": [
    {
     "name": "stdout",
     "output_type": "stream",
     "text": [
      "<class 'pandas.core.frame.DataFrame'>\n",
      "RangeIndex: 129971 entries, 0 to 129970\n",
      "Data columns (total 14 columns):\n",
      " #   Column                 Non-Null Count   Dtype  \n",
      "---  ------                 --------------   -----  \n",
      " 0   Unnamed: 0             129971 non-null  int64  \n",
      " 1   country                129908 non-null  object \n",
      " 2   description            129971 non-null  object \n",
      " 3   designation            92506 non-null   object \n",
      " 4   points                 129971 non-null  int64  \n",
      " 5   price                  120975 non-null  float64\n",
      " 6   province               129908 non-null  object \n",
      " 7   region_1               108724 non-null  object \n",
      " 8   region_2               50511 non-null   object \n",
      " 9   taster_name            103727 non-null  object \n",
      " 10  taster_twitter_handle  98758 non-null   object \n",
      " 11  title                  129971 non-null  object \n",
      " 12  variety                129970 non-null  object \n",
      " 13  winery                 129971 non-null  object \n",
      "dtypes: float64(1), int64(2), object(11)\n",
      "memory usage: 13.9+ MB\n"
     ]
    }
   ],
   "source": [
    "# data info\n",
    "data.info()"
   ]
  },
  {
   "cell_type": "markdown",
   "id": "c3edef44",
   "metadata": {},
   "source": [
    "In questa fase iniziale decido di concentrarmi sulla pulizia del dataframe, eliminando colonne inutili per le nostre analisi. Dal precedente output si nota che alcune colonne contengono valori nulli. Preferisco non cancellare le righe contenenti valori nulli in questo caso, per non correre il rischio di eliminare dati correlati potenzialmente importanti. Semplicemente utilizzerò le colonne con cautela, tenendo in considerazione l'incompletezza dei dati."
   ]
  },
  {
   "cell_type": "markdown",
   "id": "f895542b",
   "metadata": {},
   "source": [
    "#### Data Cleaning"
   ]
  },
  {
   "cell_type": "code",
   "execution_count": 230,
   "id": "9f66d0fe",
   "metadata": {},
   "outputs": [],
   "source": [
    "# rimuovo le colonne inutili alle analisi\n",
    "data = data.drop(['Unnamed: 0', 'taster_name', 'taster_twitter_handle'], axis=1)"
   ]
  },
  {
   "cell_type": "code",
   "execution_count": 231,
   "id": "8d0019e2",
   "metadata": {},
   "outputs": [
    {
     "name": "stdout",
     "output_type": "stream",
     "text": [
      "Percentuale di dati mancanti per ogni colonna:\n",
      "country         0.05\n",
      "description     0.00\n",
      "designation    28.83\n",
      "points          0.00\n",
      "price           6.92\n",
      "province        0.05\n",
      "region_1       16.35\n",
      "region_2       61.14\n",
      "title           0.00\n",
      "variety         0.00\n",
      "winery          0.00\n",
      "dtype: float64\n"
     ]
    }
   ],
   "source": [
    "# Calcolo la percentuale di dati mancanti per ciascuna categoria\n",
    "total_rows = len(data)\n",
    "missing_data_counts = data.isnull().sum()\n",
    "missing_data_percentage = (missing_data_counts / total_rows) * 100\n",
    "missing_data_percentage = missing_data_percentage.round(2)\n",
    "print(f\"Percentuale di dati mancanti per ogni colonna:\\n{missing_data_percentage}\")"
   ]
  },
  {
   "cell_type": "markdown",
   "id": "a7e349b3",
   "metadata": {},
   "source": [
    "Come si vede da questo output, le colonne che contengono più valori nulli sono region_2(61.1%), designation(28.8%), region_1(16.3%). Utilizzerò con cautela i dati senza però eliminare nessuna riga per ora."
   ]
  },
  {
   "cell_type": "markdown",
   "id": "d243d0dc",
   "metadata": {},
   "source": [
    "#### Statistiche descrittive generali"
   ]
  },
  {
   "cell_type": "code",
   "execution_count": 232,
   "id": "4a25b2d8",
   "metadata": {},
   "outputs": [
    {
     "data": {
      "text/html": [
       "<div>\n",
       "<style scoped>\n",
       "    .dataframe tbody tr th:only-of-type {\n",
       "        vertical-align: middle;\n",
       "    }\n",
       "\n",
       "    .dataframe tbody tr th {\n",
       "        vertical-align: top;\n",
       "    }\n",
       "\n",
       "    .dataframe thead th {\n",
       "        text-align: right;\n",
       "    }\n",
       "</style>\n",
       "<table border=\"1\" class=\"dataframe\">\n",
       "  <thead>\n",
       "    <tr style=\"text-align: right;\">\n",
       "      <th></th>\n",
       "      <th>points</th>\n",
       "      <th>price</th>\n",
       "    </tr>\n",
       "  </thead>\n",
       "  <tbody>\n",
       "    <tr>\n",
       "      <th>count</th>\n",
       "      <td>129971.000000</td>\n",
       "      <td>120975.000000</td>\n",
       "    </tr>\n",
       "    <tr>\n",
       "      <th>mean</th>\n",
       "      <td>88.447138</td>\n",
       "      <td>35.363389</td>\n",
       "    </tr>\n",
       "    <tr>\n",
       "      <th>std</th>\n",
       "      <td>3.039730</td>\n",
       "      <td>41.022218</td>\n",
       "    </tr>\n",
       "    <tr>\n",
       "      <th>min</th>\n",
       "      <td>80.000000</td>\n",
       "      <td>4.000000</td>\n",
       "    </tr>\n",
       "    <tr>\n",
       "      <th>25%</th>\n",
       "      <td>86.000000</td>\n",
       "      <td>17.000000</td>\n",
       "    </tr>\n",
       "    <tr>\n",
       "      <th>50%</th>\n",
       "      <td>88.000000</td>\n",
       "      <td>25.000000</td>\n",
       "    </tr>\n",
       "    <tr>\n",
       "      <th>75%</th>\n",
       "      <td>91.000000</td>\n",
       "      <td>42.000000</td>\n",
       "    </tr>\n",
       "    <tr>\n",
       "      <th>max</th>\n",
       "      <td>100.000000</td>\n",
       "      <td>3300.000000</td>\n",
       "    </tr>\n",
       "  </tbody>\n",
       "</table>\n",
       "</div>"
      ],
      "text/plain": [
       "              points          price\n",
       "count  129971.000000  120975.000000\n",
       "mean       88.447138      35.363389\n",
       "std         3.039730      41.022218\n",
       "min        80.000000       4.000000\n",
       "25%        86.000000      17.000000\n",
       "50%        88.000000      25.000000\n",
       "75%        91.000000      42.000000\n",
       "max       100.000000    3300.000000"
      ]
     },
     "execution_count": 232,
     "metadata": {},
     "output_type": "execute_result"
    }
   ],
   "source": [
    "# stats\n",
    "data.describe()"
   ]
  },
  {
   "cell_type": "markdown",
   "id": "9be8adb7",
   "metadata": {},
   "source": [
    "Queste informazioni forniscono una panoramica utile della distribuzione dei punteggi e dei prezzi all'interno del dataset. Notiamo che quasi 9000 vini non hanno il prezzo. Scopriamo così punteggio minimo e massimo (80,100), punteggio medio (88.4) e anche che la maggior parte dei vini ha un punteggio compreso tra 86 e 91. Allo stesso modo scopriamo che il prezzo medio di un vino di questo dataset è di 35.3 euro; il vino più costoso (3300) e il vino più economico (4). La maggior parte dei vini in questo dataset ha un prezzo compreso tra i 17 e i 42. Possiamo quindi definire outlier di prezzo tutti quanti quei vini che si discostano dal range appena definito."
   ]
  },
  {
   "cell_type": "code",
   "execution_count": 233,
   "id": "f3f961f4",
   "metadata": {},
   "outputs": [
    {
     "data": {
      "image/png": "[encoded data removed]",
      "text/plain": [
       "<Figure size 864x432 with 2 Axes>"
      ]
     },
     "metadata": {},
     "output_type": "display_data"
    }
   ],
   "source": [
    "# imposto lo stile grafico di seaborn\n",
    "sns.set()\n",
    "\n",
    "# Creazione dei boxplot separati per punteggi e prezzi\n",
    "plt.figure(figsize=(12, 6))\n",
    "\n",
    "# punteggi\n",
    "plt.subplot(1, 2, 1)  \n",
    "sns.boxplot(y=data['points'])\n",
    "plt.title('Boxplot per Punteggi')\n",
    "plt.ylabel('Punteggi')\n",
    "\n",
    "# prezzi\n",
    "plt.subplot(1, 2, 2)  \n",
    "sns.boxplot(y=data['price'])\n",
    "plt.title('Boxplot per Prezzi')\n",
    "plt.ylabel('Prezzi')\n",
    "\n",
    "# Visualizzazione dei boxplot\n",
    "plt.tight_layout()\n",
    "plt.show()"
   ]
  },
  {
   "cell_type": "markdown",
   "id": "8cce2bcf",
   "metadata": {},
   "source": [
    "Questi boxplot separati confermano l'output della descrizione precedente. Rileviamo quindi facilmente così gli outlier di prezzo, rappresentati dai cerchietti sull'asse verticale al di sopra della distribuzione principale; nel grafico risulta molto schiacchiata verso il basso, per la presenza di molti outlier di prezzo molto alti, che fanno estendere l'asse verticale oltre i 3000 euro. Per avere una visione ancora più chiara ed esplicativa, possiamo utilizzare anche altri tipi di visualizzazioni, come la successiva."
   ]
  },
  {
   "cell_type": "code",
   "execution_count": 234,
   "id": "0cfed9cc",
   "metadata": {},
   "outputs": [
    {
     "data": {
      "image/png": "[encoded data removed]",
      "text/plain": [
       "<Figure size 720x432 with 1 Axes>"
      ]
     },
     "metadata": {},
     "output_type": "display_data"
    }
   ],
   "source": [
    "# Creo scatter plot con la retta di regressione\n",
    "plt.figure(figsize=(10, 6))\n",
    "sns.regplot(x='points', y='price', data=data, scatter_kws={'alpha':0.3}, line_kws={'color':'red'})\n",
    "plt.title('Scatterplot: Punteggi vs Prezzi', fontsize=20, fontweight='bold')\n",
    "plt.xlabel('Punteggi', fontweight='bold')\n",
    "plt.ylabel('Prezzi', fontweight='bold')\n",
    "# Imposta i ticks da 80 a 100\n",
    "plt.xticks(range(80, 101))  \n",
    "plt.show()"
   ]
  },
  {
   "cell_type": "code",
   "execution_count": 235,
   "id": "66936029",
   "metadata": {},
   "outputs": [
    {
     "data": {
      "text/html": [
       "<div>\n",
       "<style scoped>\n",
       "    .dataframe tbody tr th:only-of-type {\n",
       "        vertical-align: middle;\n",
       "    }\n",
       "\n",
       "    .dataframe tbody tr th {\n",
       "        vertical-align: top;\n",
       "    }\n",
       "\n",
       "    .dataframe thead th {\n",
       "        text-align: right;\n",
       "    }\n",
       "</style>\n",
       "<table border=\"1\" class=\"dataframe\">\n",
       "  <thead>\n",
       "    <tr style=\"text-align: right;\">\n",
       "      <th></th>\n",
       "      <th>points</th>\n",
       "      <th>price</th>\n",
       "    </tr>\n",
       "  </thead>\n",
       "  <tbody>\n",
       "    <tr>\n",
       "      <th>points</th>\n",
       "      <td>1.000000</td>\n",
       "      <td>0.416167</td>\n",
       "    </tr>\n",
       "    <tr>\n",
       "      <th>price</th>\n",
       "      <td>0.416167</td>\n",
       "      <td>1.000000</td>\n",
       "    </tr>\n",
       "  </tbody>\n",
       "</table>\n",
       "</div>"
      ],
      "text/plain": [
       "          points     price\n",
       "points  1.000000  0.416167\n",
       "price   0.416167  1.000000"
      ]
     },
     "execution_count": 235,
     "metadata": {},
     "output_type": "execute_result"
    }
   ],
   "source": [
    "# calcolo correlazione\n",
    "correlation = data[['points', 'price']].corr()\n",
    "correlation"
   ]
  },
  {
   "cell_type": "markdown",
   "id": "e36ec73f",
   "metadata": {},
   "source": [
    "Il grafico è uno scatterplot che mostra la relazione tra i punteggi assegnati ai vini e i relativi prezzi. Ogni \"punto\" nel grafico rappresenta un vino: inoltre, è tracciata una retta di regressione che aiuta a visualizzare la tendenza generale della relazione. Una correlazione di 0.41, come calcolato sotto il grafico, indica una relazione positiva moderata tra i punteggi e i prezzi dei vini. La retta di regressione nel grafico mostra questa relazione in modo visivo. Poiché la correlazione non è estremamente alta, la retta non è molto ripida, ma mostra comunque una tendenza ascendente. Anche in questo grafico è possibile rintracciare gli outlier di prezzo, rendendo così possibile inquadrarne anche i punteggi."
   ]
  },
  {
   "cell_type": "markdown",
   "id": "25a4f636",
   "metadata": {},
   "source": [
    "#### Paesi di provenienza del vino"
   ]
  },
  {
   "cell_type": "code",
   "execution_count": 236,
   "id": "2da6ba0f",
   "metadata": {},
   "outputs": [
    {
     "name": "stdout",
     "output_type": "stream",
     "text": [
      "Paesi, prezzi medi, punteggi medi, numero di vini\n",
      "\n",
      "                        Prezzo Medio  Punteggio Medio  Numero di vini\n",
      "England                        51.68            91.58              74\n",
      "India                          13.33            90.22               9\n",
      "Austria                        30.76            90.10            3345\n",
      "Germany                        42.26            89.85            2165\n",
      "Canada                         35.71            89.37             257\n",
      "Hungary                        40.65            89.19             146\n",
      "China                          18.00            89.00               1\n",
      "France                         41.14            88.85           22093\n",
      "Luxembourg                     23.33            88.67               6\n",
      "Australia                      35.44            88.58            2329\n",
      "Switzerland                    85.29            88.57               7\n",
      "Morocco                        19.50            88.57              28\n",
      "Italy                          39.66            88.56           19540\n",
      "US                             36.57            88.56           54504\n",
      "Israel                         31.77            88.47             505\n",
      "New Zealand                    26.93            88.30            1419\n",
      "Portugal                       26.22            88.25            5691\n",
      "Turkey                         24.63            88.09              90\n",
      "Slovenia                       24.81            88.07              87\n",
      "South Africa                   24.67            88.06            1401\n",
      "Bulgaria                       14.65            87.94             141\n",
      "Lebanon                        30.69            87.69              35\n",
      "Georgia                        19.32            87.69              86\n",
      "Armenia                        14.50            87.50               2\n",
      "Serbia                         24.50            87.50              12\n",
      "Spain                          28.22            87.29            6645\n",
      "Greece                         22.36            87.28             466\n",
      "Czech Republic                 24.25            87.25              12\n",
      "Croatia                        25.45            87.22              73\n",
      "Moldova                        16.75            87.20              59\n",
      "Cyprus                         16.27            87.18              11\n",
      "Slovakia                       16.00            87.00               1\n",
      "Macedonia                      15.58            86.83              12\n",
      "Uruguay                        26.40            86.75             109\n",
      "Argentina                      24.51            86.71            3800\n",
      "Bosnia and Herzegovina         12.50            86.50               2\n",
      "Chile                          20.79            86.49            4472\n",
      "Romania                        15.24            86.40             120\n",
      "Mexico                         26.79            85.26              70\n",
      "Brazil                         23.77            84.67              52\n",
      "Ukraine                         9.21            84.07              14\n",
      "Egypt                            NaN            84.00               1\n",
      "Peru                           18.06            83.56              16\n"
     ]
    }
   ],
   "source": [
    "# Calcolo il punteggio medio e il prezzo medio per ciascun paese\n",
    "country_avg_scores = data.groupby('country')['points'].mean()\n",
    "country_avg_prices = data.groupby('country')['price'].mean()\n",
    "\n",
    "# Calcolo il numero di occorrenze (conteggio) per ciascun paese\n",
    "country_counts = data['country'].value_counts()\n",
    "\n",
    "# Creo un DataFrame con i punteggi, i prezzi e il numero di occorrenze per paese\n",
    "country_data = pd.DataFrame({'Prezzo Medio': country_avg_prices,\n",
    "                             'Punteggio Medio': country_avg_scores,\n",
    "                             'Numero di vini': country_counts})\n",
    "\n",
    "# Formattazione delle colonne a 2 cifre decimali\n",
    "country_data['Prezzo Medio'] = country_data['Prezzo Medio'].round(2)\n",
    "country_data['Punteggio Medio'] = country_data['Punteggio Medio'].round(2)\n",
    "\n",
    "# Ordino il DataFrame in base al punteggio medio in modo decrescente\n",
    "country_data = country_data.sort_values(by='Punteggio Medio', ascending=False)\n",
    "\n",
    "# Visualizzo il DataFrame ordinato\n",
    "print(f\"Paesi, prezzi medi, punteggi medi, numero di vini\\n\\n{country_data}\")"
   ]
  },
  {
   "cell_type": "markdown",
   "id": "d6b536e1",
   "metadata": {},
   "source": [
    "Questi dati ci forniscono un quadro generale della qualità e dei prezzi dei vini provenienti da tutte le diverse nazioni presenti in queste recensioni di vino. Tuttavia, è importante notare che questi sono dati aggregati e che all'interno di ciascun paese ci potrebbero essere variazioni significative nei punteggi e nei prezzi dei vini a seconda della varietà, della vigna e altro. Notiamo che l'Egitto ad esempio, non ha un prezzo medio. Questo perchè l'Egitto ha solamente un vino nel dataset, e non c'è il prezzo. Ho deciso di non eliminare le righe senza il prezzo proprio per questo motivo: non perdere informazioni correlate potenzialmente importanti, come ad esempio il punteggio, indicatore di qualità, anche in assenza del prezzo. Il numero di occorrenze aiuta a comprendere quanto sia rappresentata ogni nazione all'interno del dataset, oltre che a dare un'idea più precisa di quanto siano indicative le statistiche del punteggio medio e prezzo medio.I 10 Paesi che hanno i punteggi medi più alti sono in ordine: England, India, Austria, Germany, Canada, Hungary, China, France, Luxembourg, Australia."
   ]
  },
  {
   "cell_type": "markdown",
   "id": "e27d1267",
   "metadata": {},
   "source": [
    "#### Varietà più apprezzate"
   ]
  },
  {
   "cell_type": "code",
   "execution_count": 237,
   "id": "7490afdc",
   "metadata": {},
   "outputs": [
    {
     "name": "stdout",
     "output_type": "stream",
     "text": [
      "Prime 10 varietà per punteggio medio:\n",
      "\n",
      "                     Numero di vini  Punteggio Medio  Prezzo Medio\n",
      "variety                                                           \n",
      "Terrantez                         1            95.00         236.0\n",
      "Tinta del Pais                    2            95.00          47.5\n",
      "Gelber Traminer                   1            95.00          35.0\n",
      "Bual                              7            94.14         100.0\n",
      "Sercial                           1            94.00          50.0\n",
      "Riesling-Chardonnay               1            94.00          40.0\n",
      "Ramisco                           1            93.00         495.0\n",
      "Garnacha-Cariñena                 1            93.00          57.0\n",
      "Blauburgunder                     1            93.00          19.0\n",
      "Muscadelle                       10            92.50         111.2\n"
     ]
    }
   ],
   "source": [
    "# Calcolo il numero di occorrenze, punteggio medio e prezzo medio per ciascuna varietà\n",
    "variety_stats = data.groupby('variety').agg({\n",
    "    'variety': 'count',\n",
    "    'points': 'mean',\n",
    "    'price': 'mean'\n",
    "})\n",
    "\n",
    "# Rinomino le colonne per maggiore chiarezza\n",
    "variety_stats = variety_stats.rename(columns={'variety': 'Numero di vini', 'points': 'Punteggio Medio', 'price': 'Prezzo Medio'})\n",
    "\n",
    "# Formattazione a 2 cifre decimali\n",
    "variety_stats['Punteggio Medio'] = variety_stats['Punteggio Medio'].round(2)\n",
    "\n",
    "# Ordino in base al punteggio medio in modo decrescente\n",
    "variety_stats = variety_stats.sort_values(by='Punteggio Medio', ascending=False)\n",
    "\n",
    "# Stampo le prime 10 varietà\n",
    "print(\"Prime 10 varietà per punteggio medio:\\n\")\n",
    "print(variety_stats.head(10))"
   ]
  },
  {
   "cell_type": "markdown",
   "id": "50745a93",
   "metadata": {},
   "source": [
    "Questi sono le 10 varietà più apprezzate di vino, secondo la media dei punteggi, insieme al loro prezzo medio. Giganteggiano in questa classifica il Terrantez, Tinta del Pais e Gelber Traminer; tutte queste varietà si trovano al primo posto con una media del punteggio pari a 95. Con punteggio 94 troviamo Bual, Sercial, Riesling-Chardonnay. Ramisco, Guarnacha-Carinena e Blauburgunder hanno invece una media di 93(ma tutti e 3 hanno solamente un vino nel dataset). Ultimo posto in questo ranking, con una media di 92.5 troviamo il Muscadelle. Ho voluto aggiungere una colonna al recap con il numero di vini, che rappresenta il numero di volte che quella varietà compare nel dataframe, in modo da capire quanto la media dei punteggi sia effettivamente indicativa della qualità della varietà. Ci sono vini di altre varietà che hanno preso sicuramente un voto più alto con qualche loro bottiglia; ma complessivamente quella varietà di vino, magari avendo molti vini nel dataset di quella varietà, finisce per avere un punteggio medio più basso. Certamente varietà come Bual e Muscadelle hanno una qualità eccellente generale se su 7, o 10 bottiglie differenti, sono riuscite ad accumulare un punteggio medio così alto. Un'altro modo di capire quali sono le varietà migliori potrebbere essere quello di cercare i vini che hanno ottenuto il punteggio massimo. "
   ]
  },
  {
   "cell_type": "code",
   "execution_count": 238,
   "id": "432781ae",
   "metadata": {},
   "outputs": [
    {
     "data": {
      "text/html": [
       "<div>\n",
       "<style scoped>\n",
       "    .dataframe tbody tr th:only-of-type {\n",
       "        vertical-align: middle;\n",
       "    }\n",
       "\n",
       "    .dataframe tbody tr th {\n",
       "        vertical-align: top;\n",
       "    }\n",
       "\n",
       "    .dataframe thead th {\n",
       "        text-align: right;\n",
       "    }\n",
       "</style>\n",
       "<table border=\"1\" class=\"dataframe\">\n",
       "  <thead>\n",
       "    <tr style=\"text-align: right;\">\n",
       "      <th></th>\n",
       "      <th>country</th>\n",
       "      <th>description</th>\n",
       "      <th>designation</th>\n",
       "      <th>points</th>\n",
       "      <th>price</th>\n",
       "      <th>province</th>\n",
       "      <th>region_1</th>\n",
       "      <th>region_2</th>\n",
       "      <th>title</th>\n",
       "      <th>variety</th>\n",
       "      <th>winery</th>\n",
       "    </tr>\n",
       "  </thead>\n",
       "  <tbody>\n",
       "    <tr>\n",
       "      <th>345</th>\n",
       "      <td>Australia</td>\n",
       "      <td>This wine contains some material over 100 year...</td>\n",
       "      <td>Rare</td>\n",
       "      <td>100</td>\n",
       "      <td>350.0</td>\n",
       "      <td>Victoria</td>\n",
       "      <td>Rutherglen</td>\n",
       "      <td>NaN</td>\n",
       "      <td>Chambers Rosewood Vineyards NV Rare Muscat (Ru...</td>\n",
       "      <td>Muscat</td>\n",
       "      <td>Chambers Rosewood Vineyards</td>\n",
       "    </tr>\n",
       "    <tr>\n",
       "      <th>7335</th>\n",
       "      <td>Italy</td>\n",
       "      <td>Thick as molasses and dark as caramelized brow...</td>\n",
       "      <td>Occhio di Pernice</td>\n",
       "      <td>100</td>\n",
       "      <td>210.0</td>\n",
       "      <td>Tuscany</td>\n",
       "      <td>Vin Santo di Montepulciano</td>\n",
       "      <td>NaN</td>\n",
       "      <td>Avignonesi 1995 Occhio di Pernice  (Vin Santo ...</td>\n",
       "      <td>Prugnolo Gentile</td>\n",
       "      <td>Avignonesi</td>\n",
       "    </tr>\n",
       "    <tr>\n",
       "      <th>36528</th>\n",
       "      <td>France</td>\n",
       "      <td>This is a fabulous wine from the greatest Cham...</td>\n",
       "      <td>Brut</td>\n",
       "      <td>100</td>\n",
       "      <td>259.0</td>\n",
       "      <td>Champagne</td>\n",
       "      <td>Champagne</td>\n",
       "      <td>NaN</td>\n",
       "      <td>Krug 2002 Brut  (Champagne)</td>\n",
       "      <td>Champagne Blend</td>\n",
       "      <td>Krug</td>\n",
       "    </tr>\n",
       "    <tr>\n",
       "      <th>39286</th>\n",
       "      <td>Italy</td>\n",
       "      <td>A perfect wine from a classic vintage, the 200...</td>\n",
       "      <td>Masseto</td>\n",
       "      <td>100</td>\n",
       "      <td>460.0</td>\n",
       "      <td>Tuscany</td>\n",
       "      <td>Toscana</td>\n",
       "      <td>NaN</td>\n",
       "      <td>Tenuta dell'Ornellaia 2007 Masseto Merlot (Tos...</td>\n",
       "      <td>Merlot</td>\n",
       "      <td>Tenuta dell'Ornellaia</td>\n",
       "    </tr>\n",
       "    <tr>\n",
       "      <th>42197</th>\n",
       "      <td>Portugal</td>\n",
       "      <td>This is the latest release of what has long be...</td>\n",
       "      <td>Barca-Velha</td>\n",
       "      <td>100</td>\n",
       "      <td>450.0</td>\n",
       "      <td>Douro</td>\n",
       "      <td>NaN</td>\n",
       "      <td>NaN</td>\n",
       "      <td>Casa Ferreirinha 2008 Barca-Velha Red (Douro)</td>\n",
       "      <td>Portuguese Red</td>\n",
       "      <td>Casa Ferreirinha</td>\n",
       "    </tr>\n",
       "    <tr>\n",
       "      <th>45781</th>\n",
       "      <td>Italy</td>\n",
       "      <td>This gorgeous, fragrant wine opens with classi...</td>\n",
       "      <td>Riserva</td>\n",
       "      <td>100</td>\n",
       "      <td>550.0</td>\n",
       "      <td>Tuscany</td>\n",
       "      <td>Brunello di Montalcino</td>\n",
       "      <td>NaN</td>\n",
       "      <td>Biondi Santi 2010 Riserva  (Brunello di Montal...</td>\n",
       "      <td>Sangiovese</td>\n",
       "      <td>Biondi Santi</td>\n",
       "    </tr>\n",
       "    <tr>\n",
       "      <th>45798</th>\n",
       "      <td>US</td>\n",
       "      <td>Tasted in a flight of great and famous Napa wi...</td>\n",
       "      <td>NaN</td>\n",
       "      <td>100</td>\n",
       "      <td>200.0</td>\n",
       "      <td>California</td>\n",
       "      <td>Napa Valley</td>\n",
       "      <td>Napa</td>\n",
       "      <td>Cardinale 2006 Cabernet Sauvignon (Napa Valley)</td>\n",
       "      <td>Cabernet Sauvignon</td>\n",
       "      <td>Cardinale</td>\n",
       "    </tr>\n",
       "    <tr>\n",
       "      <th>58352</th>\n",
       "      <td>France</td>\n",
       "      <td>This is a magnificently solid wine, initially ...</td>\n",
       "      <td>NaN</td>\n",
       "      <td>100</td>\n",
       "      <td>150.0</td>\n",
       "      <td>Bordeaux</td>\n",
       "      <td>Saint-Julien</td>\n",
       "      <td>NaN</td>\n",
       "      <td>Château Léoville Barton 2010  Saint-Julien</td>\n",
       "      <td>Bordeaux-style Red Blend</td>\n",
       "      <td>Château Léoville Barton</td>\n",
       "    </tr>\n",
       "    <tr>\n",
       "      <th>89728</th>\n",
       "      <td>France</td>\n",
       "      <td>This latest incarnation of the famous brand is...</td>\n",
       "      <td>Cristal Vintage Brut</td>\n",
       "      <td>100</td>\n",
       "      <td>250.0</td>\n",
       "      <td>Champagne</td>\n",
       "      <td>Champagne</td>\n",
       "      <td>NaN</td>\n",
       "      <td>Louis Roederer 2008 Cristal Vintage Brut  (Cha...</td>\n",
       "      <td>Champagne Blend</td>\n",
       "      <td>Louis Roederer</td>\n",
       "    </tr>\n",
       "    <tr>\n",
       "      <th>89729</th>\n",
       "      <td>France</td>\n",
       "      <td>This new release from a great vintage for Char...</td>\n",
       "      <td>Le Mesnil Blanc de Blancs Brut</td>\n",
       "      <td>100</td>\n",
       "      <td>617.0</td>\n",
       "      <td>Champagne</td>\n",
       "      <td>Champagne</td>\n",
       "      <td>NaN</td>\n",
       "      <td>Salon 2006 Le Mesnil Blanc de Blancs Brut Char...</td>\n",
       "      <td>Chardonnay</td>\n",
       "      <td>Salon</td>\n",
       "    </tr>\n",
       "    <tr>\n",
       "      <th>111753</th>\n",
       "      <td>France</td>\n",
       "      <td>Almost black in color, this stunning wine is g...</td>\n",
       "      <td>NaN</td>\n",
       "      <td>100</td>\n",
       "      <td>1500.0</td>\n",
       "      <td>Bordeaux</td>\n",
       "      <td>Pauillac</td>\n",
       "      <td>NaN</td>\n",
       "      <td>Château Lafite Rothschild 2010  Pauillac</td>\n",
       "      <td>Bordeaux-style Red Blend</td>\n",
       "      <td>Château Lafite Rothschild</td>\n",
       "    </tr>\n",
       "    <tr>\n",
       "      <th>111754</th>\n",
       "      <td>Italy</td>\n",
       "      <td>It takes only a few moments before you appreci...</td>\n",
       "      <td>Cerretalto</td>\n",
       "      <td>100</td>\n",
       "      <td>270.0</td>\n",
       "      <td>Tuscany</td>\n",
       "      <td>Brunello di Montalcino</td>\n",
       "      <td>NaN</td>\n",
       "      <td>Casanova di Neri 2007 Cerretalto  (Brunello di...</td>\n",
       "      <td>Sangiovese Grosso</td>\n",
       "      <td>Casanova di Neri</td>\n",
       "    </tr>\n",
       "    <tr>\n",
       "      <th>111755</th>\n",
       "      <td>France</td>\n",
       "      <td>This is the finest Cheval Blanc for many years...</td>\n",
       "      <td>NaN</td>\n",
       "      <td>100</td>\n",
       "      <td>1500.0</td>\n",
       "      <td>Bordeaux</td>\n",
       "      <td>Saint-Émilion</td>\n",
       "      <td>NaN</td>\n",
       "      <td>Château Cheval Blanc 2010  Saint-Émilion</td>\n",
       "      <td>Bordeaux-style Red Blend</td>\n",
       "      <td>Château Cheval Blanc</td>\n",
       "    </tr>\n",
       "    <tr>\n",
       "      <th>111756</th>\n",
       "      <td>France</td>\n",
       "      <td>A hugely powerful wine, full of dark, brooding...</td>\n",
       "      <td>NaN</td>\n",
       "      <td>100</td>\n",
       "      <td>359.0</td>\n",
       "      <td>Bordeaux</td>\n",
       "      <td>Saint-Julien</td>\n",
       "      <td>NaN</td>\n",
       "      <td>Château Léoville Las Cases 2010  Saint-Julien</td>\n",
       "      <td>Bordeaux-style Red Blend</td>\n",
       "      <td>Château Léoville Las Cases</td>\n",
       "    </tr>\n",
       "    <tr>\n",
       "      <th>113929</th>\n",
       "      <td>US</td>\n",
       "      <td>In 2005 Charles Smith introduced three high-en...</td>\n",
       "      <td>Royal City</td>\n",
       "      <td>100</td>\n",
       "      <td>80.0</td>\n",
       "      <td>Washington</td>\n",
       "      <td>Columbia Valley (WA)</td>\n",
       "      <td>Columbia Valley</td>\n",
       "      <td>Charles Smith 2006 Royal City Syrah (Columbia ...</td>\n",
       "      <td>Syrah</td>\n",
       "      <td>Charles Smith</td>\n",
       "    </tr>\n",
       "    <tr>\n",
       "      <th>114972</th>\n",
       "      <td>Portugal</td>\n",
       "      <td>A powerful and ripe wine, strongly influenced ...</td>\n",
       "      <td>Nacional Vintage</td>\n",
       "      <td>100</td>\n",
       "      <td>650.0</td>\n",
       "      <td>Port</td>\n",
       "      <td>NaN</td>\n",
       "      <td>NaN</td>\n",
       "      <td>Quinta do Noval 2011 Nacional Vintage  (Port)</td>\n",
       "      <td>Port</td>\n",
       "      <td>Quinta do Noval</td>\n",
       "    </tr>\n",
       "    <tr>\n",
       "      <th>118058</th>\n",
       "      <td>US</td>\n",
       "      <td>This wine dazzles with perfection. Sourced fro...</td>\n",
       "      <td>La Muse</td>\n",
       "      <td>100</td>\n",
       "      <td>450.0</td>\n",
       "      <td>California</td>\n",
       "      <td>Sonoma County</td>\n",
       "      <td>Sonoma</td>\n",
       "      <td>Verité 2007 La Muse Red (Sonoma County)</td>\n",
       "      <td>Bordeaux-style Red Blend</td>\n",
       "      <td>Verité</td>\n",
       "    </tr>\n",
       "    <tr>\n",
       "      <th>122935</th>\n",
       "      <td>France</td>\n",
       "      <td>Full of ripe fruit, opulent and concentrated, ...</td>\n",
       "      <td>NaN</td>\n",
       "      <td>100</td>\n",
       "      <td>848.0</td>\n",
       "      <td>Bordeaux</td>\n",
       "      <td>Pessac-Léognan</td>\n",
       "      <td>NaN</td>\n",
       "      <td>Château Haut-Brion 2014  Pessac-Léognan</td>\n",
       "      <td>Bordeaux-style White Blend</td>\n",
       "      <td>Château Haut-Brion</td>\n",
       "    </tr>\n",
       "    <tr>\n",
       "      <th>123545</th>\n",
       "      <td>US</td>\n",
       "      <td>Initially a rather subdued Frog; as if it has ...</td>\n",
       "      <td>Bionic Frog</td>\n",
       "      <td>100</td>\n",
       "      <td>80.0</td>\n",
       "      <td>Washington</td>\n",
       "      <td>Walla Walla Valley (WA)</td>\n",
       "      <td>Columbia Valley</td>\n",
       "      <td>Cayuse 2008 Bionic Frog Syrah (Walla Walla Val...</td>\n",
       "      <td>Syrah</td>\n",
       "      <td>Cayuse</td>\n",
       "    </tr>\n",
       "  </tbody>\n",
       "</table>\n",
       "</div>"
      ],
      "text/plain": [
       "          country                                        description  \\\n",
       "345     Australia  This wine contains some material over 100 year...   \n",
       "7335        Italy  Thick as molasses and dark as caramelized brow...   \n",
       "36528      France  This is a fabulous wine from the greatest Cham...   \n",
       "39286       Italy  A perfect wine from a classic vintage, the 200...   \n",
       "42197    Portugal  This is the latest release of what has long be...   \n",
       "45781       Italy  This gorgeous, fragrant wine opens with classi...   \n",
       "45798          US  Tasted in a flight of great and famous Napa wi...   \n",
       "58352      France  This is a magnificently solid wine, initially ...   \n",
       "89728      France  This latest incarnation of the famous brand is...   \n",
       "89729      France  This new release from a great vintage for Char...   \n",
       "111753     France  Almost black in color, this stunning wine is g...   \n",
       "111754      Italy  It takes only a few moments before you appreci...   \n",
       "111755     France  This is the finest Cheval Blanc for many years...   \n",
       "111756     France  A hugely powerful wine, full of dark, brooding...   \n",
       "113929         US  In 2005 Charles Smith introduced three high-en...   \n",
       "114972   Portugal  A powerful and ripe wine, strongly influenced ...   \n",
       "118058         US  This wine dazzles with perfection. Sourced fro...   \n",
       "122935     France  Full of ripe fruit, opulent and concentrated, ...   \n",
       "123545         US  Initially a rather subdued Frog; as if it has ...   \n",
       "\n",
       "                           designation  points   price    province  \\\n",
       "345                               Rare     100   350.0    Victoria   \n",
       "7335                 Occhio di Pernice     100   210.0     Tuscany   \n",
       "36528                             Brut     100   259.0   Champagne   \n",
       "39286                          Masseto     100   460.0     Tuscany   \n",
       "42197                      Barca-Velha     100   450.0       Douro   \n",
       "45781                          Riserva     100   550.0     Tuscany   \n",
       "45798                              NaN     100   200.0  California   \n",
       "58352                              NaN     100   150.0    Bordeaux   \n",
       "89728             Cristal Vintage Brut     100   250.0   Champagne   \n",
       "89729   Le Mesnil Blanc de Blancs Brut     100   617.0   Champagne   \n",
       "111753                             NaN     100  1500.0    Bordeaux   \n",
       "111754                      Cerretalto     100   270.0     Tuscany   \n",
       "111755                             NaN     100  1500.0    Bordeaux   \n",
       "111756                             NaN     100   359.0    Bordeaux   \n",
       "113929                      Royal City     100    80.0  Washington   \n",
       "114972                Nacional Vintage     100   650.0        Port   \n",
       "118058                         La Muse     100   450.0  California   \n",
       "122935                             NaN     100   848.0    Bordeaux   \n",
       "123545                     Bionic Frog     100    80.0  Washington   \n",
       "\n",
       "                          region_1         region_2  \\\n",
       "345                     Rutherglen              NaN   \n",
       "7335    Vin Santo di Montepulciano              NaN   \n",
       "36528                    Champagne              NaN   \n",
       "39286                      Toscana              NaN   \n",
       "42197                          NaN              NaN   \n",
       "45781       Brunello di Montalcino              NaN   \n",
       "45798                  Napa Valley             Napa   \n",
       "58352                 Saint-Julien              NaN   \n",
       "89728                    Champagne              NaN   \n",
       "89729                    Champagne              NaN   \n",
       "111753                    Pauillac              NaN   \n",
       "111754      Brunello di Montalcino              NaN   \n",
       "111755               Saint-Émilion              NaN   \n",
       "111756                Saint-Julien              NaN   \n",
       "113929        Columbia Valley (WA)  Columbia Valley   \n",
       "114972                         NaN              NaN   \n",
       "118058               Sonoma County           Sonoma   \n",
       "122935              Pessac-Léognan              NaN   \n",
       "123545     Walla Walla Valley (WA)  Columbia Valley   \n",
       "\n",
       "                                                    title  \\\n",
       "345     Chambers Rosewood Vineyards NV Rare Muscat (Ru...   \n",
       "7335    Avignonesi 1995 Occhio di Pernice  (Vin Santo ...   \n",
       "36528                         Krug 2002 Brut  (Champagne)   \n",
       "39286   Tenuta dell'Ornellaia 2007 Masseto Merlot (Tos...   \n",
       "42197       Casa Ferreirinha 2008 Barca-Velha Red (Douro)   \n",
       "45781   Biondi Santi 2010 Riserva  (Brunello di Montal...   \n",
       "45798     Cardinale 2006 Cabernet Sauvignon (Napa Valley)   \n",
       "58352          Château Léoville Barton 2010  Saint-Julien   \n",
       "89728   Louis Roederer 2008 Cristal Vintage Brut  (Cha...   \n",
       "89729   Salon 2006 Le Mesnil Blanc de Blancs Brut Char...   \n",
       "111753           Château Lafite Rothschild 2010  Pauillac   \n",
       "111754  Casanova di Neri 2007 Cerretalto  (Brunello di...   \n",
       "111755           Château Cheval Blanc 2010  Saint-Émilion   \n",
       "111756      Château Léoville Las Cases 2010  Saint-Julien   \n",
       "113929  Charles Smith 2006 Royal City Syrah (Columbia ...   \n",
       "114972      Quinta do Noval 2011 Nacional Vintage  (Port)   \n",
       "118058            Verité 2007 La Muse Red (Sonoma County)   \n",
       "122935            Château Haut-Brion 2014  Pessac-Léognan   \n",
       "123545  Cayuse 2008 Bionic Frog Syrah (Walla Walla Val...   \n",
       "\n",
       "                           variety                       winery  \n",
       "345                         Muscat  Chambers Rosewood Vineyards  \n",
       "7335              Prugnolo Gentile                   Avignonesi  \n",
       "36528              Champagne Blend                         Krug  \n",
       "39286                       Merlot        Tenuta dell'Ornellaia  \n",
       "42197               Portuguese Red             Casa Ferreirinha  \n",
       "45781                   Sangiovese                 Biondi Santi  \n",
       "45798           Cabernet Sauvignon                    Cardinale  \n",
       "58352     Bordeaux-style Red Blend      Château Léoville Barton  \n",
       "89728              Champagne Blend               Louis Roederer  \n",
       "89729                   Chardonnay                        Salon  \n",
       "111753    Bordeaux-style Red Blend    Château Lafite Rothschild  \n",
       "111754           Sangiovese Grosso             Casanova di Neri  \n",
       "111755    Bordeaux-style Red Blend         Château Cheval Blanc  \n",
       "111756    Bordeaux-style Red Blend   Château Léoville Las Cases  \n",
       "113929                       Syrah                Charles Smith  \n",
       "114972                        Port              Quinta do Noval  \n",
       "118058    Bordeaux-style Red Blend                       Verité  \n",
       "122935  Bordeaux-style White Blend           Château Haut-Brion  \n",
       "123545                       Syrah                       Cayuse  "
      ]
     },
     "execution_count": 238,
     "metadata": {},
     "output_type": "execute_result"
    }
   ],
   "source": [
    "# Filtro i vini con punteggio 100\n",
    "wines_with_100_points = data.loc[data['points'] == 100]\n",
    "\n",
    "# Stampo tutte le righe corrispondenti\n",
    "wines_with_100_points"
   ]
  },
  {
   "cell_type": "code",
   "execution_count": 239,
   "id": "46566031",
   "metadata": {},
   "outputs": [
    {
     "data": {
      "application/vnd.plotly.v1+json": {
       "config": {
        "plotlyServerURL": "https://plot.ly"
       },
       "data": [
        {
         "alignmentgroup": "True",
         "customdata": [
          [
           "Chambers Rosewood Vineyards NV Rare Muscat (Rutherglen)",
           350,
           "Victoria",
           "Australia",
           "Chambers Rosewood Vineyards"
          ]
         ],
         "hovertemplate": "%{customdata[0]}<br>Vigna: %{hovertext}<br>Prezzo: %{customdata[1]}<br>Località: %{customdata[2]}",
         "hovertext": [
          "Chambers Rosewood Vineyards"
         ],
         "legendgroup": "Australia",
         "marker": {
          "color": "#636efa",
          "pattern": {
           "shape": ""
          }
         },
         "name": "Australia",
         "offsetgroup": "Australia",
         "orientation": "v",
         "showlegend": true,
         "textposition": "auto",
         "type": "bar",
         "x": [
          "Muscat"
         ],
         "xaxis": "x",
         "y": [
          100
         ],
         "yaxis": "y"
        },
        {
         "alignmentgroup": "True",
         "customdata": [
          [
           "Avignonesi 1995 Occhio di Pernice  (Vin Santo di Montepulciano)",
           210,
           "Tuscany",
           "Italy",
           "Avignonesi"
          ],
          [
           "Tenuta dell'Ornellaia 2007 Masseto Merlot (Toscana)",
           460,
           "Tuscany",
           "Italy",
           "Tenuta dell'Ornellaia"
          ],
          [
           "Biondi Santi 2010 Riserva  (Brunello di Montalcino)",
           550,
           "Tuscany",
           "Italy",
           "Biondi Santi"
          ],
          [
           "Casanova di Neri 2007 Cerretalto  (Brunello di Montalcino)",
           270,
           "Tuscany",
           "Italy",
           "Casanova di Neri"
          ]
         ],
         "hovertemplate": "%{customdata[0]}<br>Vigna: %{hovertext}<br>Prezzo: %{customdata[1]}<br>Località: %{customdata[2]}",
         "hovertext": [
          "Avignonesi",
          "Tenuta dell'Ornellaia",
          "Biondi Santi",
          "Casanova di Neri"
         ],
         "legendgroup": "Italy",
         "marker": {
          "color": "#EF553B",
          "pattern": {
           "shape": ""
          }
         },
         "name": "Italy",
         "offsetgroup": "Italy",
         "orientation": "v",
         "showlegend": true,
         "textposition": "auto",
         "type": "bar",
         "x": [
          "Prugnolo Gentile",
          "Merlot",
          "Sangiovese",
          "Sangiovese Grosso"
         ],
         "xaxis": "x",
         "y": [
          100,
          100,
          100,
          100
         ],
         "yaxis": "y"
        },
        {
         "alignmentgroup": "True",
         "customdata": [
          [
           "Krug 2002 Brut  (Champagne)",
           259,
           "Champagne",
           "France",
           "Krug"
          ],
          [
           "Château Léoville Barton 2010  Saint-Julien",
           150,
           "Bordeaux",
           "France",
           "Château Léoville Barton"
          ],
          [
           "Louis Roederer 2008 Cristal Vintage Brut  (Champagne)",
           250,
           "Champagne",
           "France",
           "Louis Roederer"
          ],
          [
           "Salon 2006 Le Mesnil Blanc de Blancs Brut Chardonnay (Champagne)",
           617,
           "Champagne",
           "France",
           "Salon"
          ],
          [
           "Château Lafite Rothschild 2010  Pauillac",
           1500,
           "Bordeaux",
           "France",
           "Château Lafite Rothschild"
          ],
          [
           "Château Cheval Blanc 2010  Saint-Émilion",
           1500,
           "Bordeaux",
           "France",
           "Château Cheval Blanc"
          ],
          [
           "Château Léoville Las Cases 2010  Saint-Julien",
           359,
           "Bordeaux",
           "France",
           "Château Léoville Las Cases"
          ],
          [
           "Château Haut-Brion 2014  Pessac-Léognan",
           848,
           "Bordeaux",
           "France",
           "Château Haut-Brion"
          ]
         ],
         "hovertemplate": "%{customdata[0]}<br>Vigna: %{hovertext}<br>Prezzo: %{customdata[1]}<br>Località: %{customdata[2]}",
         "hovertext": [
          "Krug",
          "Château Léoville Barton",
          "Louis Roederer",
          "Salon",
          "Château Lafite Rothschild",
          "Château Cheval Blanc",
          "Château Léoville Las Cases",
          "Château Haut-Brion"
         ],
         "legendgroup": "France",
         "marker": {
          "color": "#00cc96",
          "pattern": {
           "shape": ""
          }
         },
         "name": "France",
         "offsetgroup": "France",
         "orientation": "v",
         "showlegend": true,
         "textposition": "auto",
         "type": "bar",
         "x": [
          "Champagne Blend",
          "Bordeaux-style Red Blend",
          "Champagne Blend",
          "Chardonnay",
          "Bordeaux-style Red Blend",
          "Bordeaux-style Red Blend",
          "Bordeaux-style Red Blend",
          "Bordeaux-style White Blend"
         ],
         "xaxis": "x",
         "y": [
          100,
          100,
          100,
          100,
          100,
          100,
          100,
          100
         ],
         "yaxis": "y"
        },
        {
         "alignmentgroup": "True",
         "customdata": [
          [
           "Casa Ferreirinha 2008 Barca-Velha Red (Douro)",
           450,
           "Douro",
           "Portugal",
           "Casa Ferreirinha"
          ],
          [
           "Quinta do Noval 2011 Nacional Vintage  (Port)",
           650,
           "Port",
           "Portugal",
           "Quinta do Noval"
          ]
         ],
         "hovertemplate": "%{customdata[0]}<br>Vigna: %{hovertext}<br>Prezzo: %{customdata[1]}<br>Località: %{customdata[2]}",
         "hovertext": [
          "Casa Ferreirinha",
          "Quinta do Noval"
         ],
         "legendgroup": "Portugal",
         "marker": {
          "color": "#ab63fa",
          "pattern": {
           "shape": ""
          }
         },
         "name": "Portugal",
         "offsetgroup": "Portugal",
         "orientation": "v",
         "showlegend": true,
         "textposition": "auto",
         "type": "bar",
         "x": [
          "Portuguese Red",
          "Port"
         ],
         "xaxis": "x",
         "y": [
          100,
          100
         ],
         "yaxis": "y"
        },
        {
         "alignmentgroup": "True",
         "customdata": [
          [
           "Cardinale 2006 Cabernet Sauvignon (Napa Valley)",
           200,
           "California",
           "US",
           "Cardinale"
          ],
          [
           "Charles Smith 2006 Royal City Syrah (Columbia Valley (WA))",
           80,
           "Washington",
           "US",
           "Charles Smith"
          ],
          [
           "Verité 2007 La Muse Red (Sonoma County)",
           450,
           "California",
           "US",
           "Verité"
          ],
          [
           "Cayuse 2008 Bionic Frog Syrah (Walla Walla Valley (WA))",
           80,
           "Washington",
           "US",
           "Cayuse"
          ]
         ],
         "hovertemplate": "%{customdata[0]}<br>Vigna: %{hovertext}<br>Prezzo: %{customdata[1]}<br>Località: %{customdata[2]}",
         "hovertext": [
          "Cardinale",
          "Charles Smith",
          "Verité",
          "Cayuse"
         ],
         "legendgroup": "US",
         "marker": {
          "color": "#FFA15A",
          "pattern": {
           "shape": ""
          }
         },
         "name": "US",
         "offsetgroup": "US",
         "orientation": "v",
         "showlegend": true,
         "textposition": "auto",
         "type": "bar",
         "x": [
          "Cabernet Sauvignon",
          "Syrah",
          "Bordeaux-style Red Blend",
          "Syrah"
         ],
         "xaxis": "x",
         "y": [
          100,
          100,
          100,
          100
         ],
         "yaxis": "y"
        }
       ],
       "layout": {
        "barmode": "relative",
        "legend": {
         "title": {
          "text": "country"
         },
         "tracegroupgap": 0
        },
        "template": {
         "data": {
          "bar": [
           {
            "error_x": {
             "color": "#2a3f5f"
            },
            "error_y": {
             "color": "#2a3f5f"
            },
            "marker": {
             "line": {
              "color": "#E5ECF6",
              "width": 0.5
             },
             "pattern": {
              "fillmode": "overlay",
              "size": 10,
              "solidity": 0.2
             }
            },
            "type": "bar"
           }
          ],
          "barpolar": [
           {
            "marker": {
             "line": {
              "color": "#E5ECF6",
              "width": 0.5
             },
             "pattern": {
              "fillmode": "overlay",
              "size": 10,
              "solidity": 0.2
             }
            },
            "type": "barpolar"
           }
          ],
          "carpet": [
           {
            "aaxis": {
             "endlinecolor": "#2a3f5f",
             "gridcolor": "white",
             "linecolor": "white",
             "minorgridcolor": "white",
             "startlinecolor": "#2a3f5f"
            },
            "baxis": {
             "endlinecolor": "#2a3f5f",
             "gridcolor": "white",
             "linecolor": "white",
             "minorgridcolor": "white",
             "startlinecolor": "#2a3f5f"
            },
            "type": "carpet"
           }
          ],
          "choropleth": [
           {
            "colorbar": {
             "outlinewidth": 0,
             "ticks": ""
            },
            "type": "choropleth"
           }
          ],
          "contour": [
           {
            "colorbar": {
             "outlinewidth": 0,
             "ticks": ""
            },
            "colorscale": [
             [
              0,
              "#0d0887"
             ],
             [
              0.1111111111111111,
              "#46039f"
             ],
             [
              0.2222222222222222,
              "#7201a8"
             ],
             [
              0.3333333333333333,
              "#9c179e"
             ],
             [
              0.4444444444444444,
              "#bd3786"
             ],
             [
              0.5555555555555556,
              "#d8576b"
             ],
             [
              0.6666666666666666,
              "#ed7953"
             ],
             [
              0.7777777777777778,
              "#fb9f3a"
             ],
             [
              0.8888888888888888,
              "#fdca26"
             ],
             [
              1,
              "#f0f921"
             ]
            ],
            "type": "contour"
           }
          ],
          "contourcarpet": [
           {
            "colorbar": {
             "outlinewidth": 0,
             "ticks": ""
            },
            "type": "contourcarpet"
           }
          ],
          "heatmap": [
           {
            "colorbar": {
             "outlinewidth": 0,
             "ticks": ""
            },
            "colorscale": [
             [
              0,
              "#0d0887"
             ],
             [
              0.1111111111111111,
              "#46039f"
             ],
             [
              0.2222222222222222,
              "#7201a8"
             ],
             [
              0.3333333333333333,
              "#9c179e"
             ],
             [
              0.4444444444444444,
              "#bd3786"
             ],
             [
              0.5555555555555556,
              "#d8576b"
             ],
             [
              0.6666666666666666,
              "#ed7953"
             ],
             [
              0.7777777777777778,
              "#fb9f3a"
             ],
             [
              0.8888888888888888,
              "#fdca26"
             ],
             [
              1,
              "#f0f921"
             ]
            ],
            "type": "heatmap"
           }
          ],
          "heatmapgl": [
           {
            "colorbar": {
             "outlinewidth": 0,
             "ticks": ""
            },
            "colorscale": [
             [
              0,
              "#0d0887"
             ],
             [
              0.1111111111111111,
              "#46039f"
             ],
             [
              0.2222222222222222,
              "#7201a8"
             ],
             [
              0.3333333333333333,
              "#9c179e"
             ],
             [
              0.4444444444444444,
              "#bd3786"
             ],
             [
              0.5555555555555556,
              "#d8576b"
             ],
             [
              0.6666666666666666,
              "#ed7953"
             ],
             [
              0.7777777777777778,
              "#fb9f3a"
             ],
             [
              0.8888888888888888,
              "#fdca26"
             ],
             [
              1,
              "#f0f921"
             ]
            ],
            "type": "heatmapgl"
           }
          ],
          "histogram": [
           {
            "marker": {
             "pattern": {
              "fillmode": "overlay",
              "size": 10,
              "solidity": 0.2
             }
            },
            "type": "histogram"
           }
          ],
          "histogram2d": [
           {
            "colorbar": {
             "outlinewidth": 0,
             "ticks": ""
            },
            "colorscale": [
             [
              0,
              "#0d0887"
             ],
             [
              0.1111111111111111,
              "#46039f"
             ],
             [
              0.2222222222222222,
              "#7201a8"
             ],
             [
              0.3333333333333333,
              "#9c179e"
             ],
             [
              0.4444444444444444,
              "#bd3786"
             ],
             [
              0.5555555555555556,
              "#d8576b"
             ],
             [
              0.6666666666666666,
              "#ed7953"
             ],
             [
              0.7777777777777778,
              "#fb9f3a"
             ],
             [
              0.8888888888888888,
              "#fdca26"
             ],
             [
              1,
              "#f0f921"
             ]
            ],
            "type": "histogram2d"
           }
          ],
          "histogram2dcontour": [
           {
            "colorbar": {
             "outlinewidth": 0,
             "ticks": ""
            },
            "colorscale": [
             [
              0,
              "#0d0887"
             ],
             [
              0.1111111111111111,
              "#46039f"
             ],
             [
              0.2222222222222222,
              "#7201a8"
             ],
             [
              0.3333333333333333,
              "#9c179e"
             ],
             [
              0.4444444444444444,
              "#bd3786"
             ],
             [
              0.5555555555555556,
              "#d8576b"
             ],
             [
              0.6666666666666666,
              "#ed7953"
             ],
             [
              0.7777777777777778,
              "#fb9f3a"
             ],
             [
              0.8888888888888888,
              "#fdca26"
             ],
             [
              1,
              "#f0f921"
             ]
            ],
            "type": "histogram2dcontour"
           }
          ],
          "mesh3d": [
           {
            "colorbar": {
             "outlinewidth": 0,
             "ticks": ""
            },
            "type": "mesh3d"
           }
          ],
          "parcoords": [
           {
            "line": {
             "colorbar": {
              "outlinewidth": 0,
              "ticks": ""
             }
            },
            "type": "parcoords"
           }
          ],
          "pie": [
           {
            "automargin": true,
            "type": "pie"
           }
          ],
          "scatter": [
           {
            "fillpattern": {
             "fillmode": "overlay",
             "size": 10,
             "solidity": 0.2
            },
            "type": "scatter"
           }
          ],
          "scatter3d": [
           {
            "line": {
             "colorbar": {
              "outlinewidth": 0,
              "ticks": ""
             }
            },
            "marker": {
             "colorbar": {
              "outlinewidth": 0,
              "ticks": ""
             }
            },
            "type": "scatter3d"
           }
          ],
          "scattercarpet": [
           {
            "marker": {
             "colorbar": {
              "outlinewidth": 0,
              "ticks": ""
             }
            },
            "type": "scattercarpet"
           }
          ],
          "scattergeo": [
           {
            "marker": {
             "colorbar": {
              "outlinewidth": 0,
              "ticks": ""
             }
            },
            "type": "scattergeo"
           }
          ],
          "scattergl": [
           {
            "marker": {
             "colorbar": {
              "outlinewidth": 0,
              "ticks": ""
             }
            },
            "type": "scattergl"
           }
          ],
          "scattermapbox": [
           {
            "marker": {
             "colorbar": {
              "outlinewidth": 0,
              "ticks": ""
             }
            },
            "type": "scattermapbox"
           }
          ],
          "scatterpolar": [
           {
            "marker": {
             "colorbar": {
              "outlinewidth": 0,
              "ticks": ""
             }
            },
            "type": "scatterpolar"
           }
          ],
          "scatterpolargl": [
           {
            "marker": {
             "colorbar": {
              "outlinewidth": 0,
              "ticks": ""
             }
            },
            "type": "scatterpolargl"
           }
          ],
          "scatterternary": [
           {
            "marker": {
             "colorbar": {
              "outlinewidth": 0,
              "ticks": ""
             }
            },
            "type": "scatterternary"
           }
          ],
          "surface": [
           {
            "colorbar": {
             "outlinewidth": 0,
             "ticks": ""
            },
            "colorscale": [
             [
              0,
              "#0d0887"
             ],
             [
              0.1111111111111111,
              "#46039f"
             ],
             [
              0.2222222222222222,
              "#7201a8"
             ],
             [
              0.3333333333333333,
              "#9c179e"
             ],
             [
              0.4444444444444444,
              "#bd3786"
             ],
             [
              0.5555555555555556,
              "#d8576b"
             ],
             [
              0.6666666666666666,
              "#ed7953"
             ],
             [
              0.7777777777777778,
              "#fb9f3a"
             ],
             [
              0.8888888888888888,
              "#fdca26"
             ],
             [
              1,
              "#f0f921"
             ]
            ],
            "type": "surface"
           }
          ],
          "table": [
           {
            "cells": {
             "fill": {
              "color": "#EBF0F8"
             },
             "line": {
              "color": "white"
             }
            },
            "header": {
             "fill": {
              "color": "#C8D4E3"
             },
             "line": {
              "color": "white"
             }
            },
            "type": "table"
           }
          ]
         },
         "layout": {
          "annotationdefaults": {
           "arrowcolor": "#2a3f5f",
           "arrowhead": 0,
           "arrowwidth": 1
          },
          "autotypenumbers": "strict",
          "coloraxis": {
           "colorbar": {
            "outlinewidth": 0,
            "ticks": ""
           }
          },
          "colorscale": {
           "diverging": [
            [
             0,
             "#8e0152"
            ],
            [
             0.1,
             "#c51b7d"
            ],
            [
             0.2,
             "#de77ae"
            ],
            [
             0.3,
             "#f1b6da"
            ],
            [
             0.4,
             "#fde0ef"
            ],
            [
             0.5,
             "#f7f7f7"
            ],
            [
             0.6,
             "#e6f5d0"
            ],
            [
             0.7,
             "#b8e186"
            ],
            [
             0.8,
             "#7fbc41"
            ],
            [
             0.9,
             "#4d9221"
            ],
            [
             1,
             "#276419"
            ]
           ],
           "sequential": [
            [
             0,
             "#0d0887"
            ],
            [
             0.1111111111111111,
             "#46039f"
            ],
            [
             0.2222222222222222,
             "#7201a8"
            ],
            [
             0.3333333333333333,
             "#9c179e"
            ],
            [
             0.4444444444444444,
             "#bd3786"
            ],
            [
             0.5555555555555556,
             "#d8576b"
            ],
            [
             0.6666666666666666,
             "#ed7953"
            ],
            [
             0.7777777777777778,
             "#fb9f3a"
            ],
            [
             0.8888888888888888,
             "#fdca26"
            ],
            [
             1,
             "#f0f921"
            ]
           ],
           "sequentialminus": [
            [
             0,
             "#0d0887"
            ],
            [
             0.1111111111111111,
             "#46039f"
            ],
            [
             0.2222222222222222,
             "#7201a8"
            ],
            [
             0.3333333333333333,
             "#9c179e"
            ],
            [
             0.4444444444444444,
             "#bd3786"
            ],
            [
             0.5555555555555556,
             "#d8576b"
            ],
            [
             0.6666666666666666,
             "#ed7953"
            ],
            [
             0.7777777777777778,
             "#fb9f3a"
            ],
            [
             0.8888888888888888,
             "#fdca26"
            ],
            [
             1,
             "#f0f921"
            ]
           ]
          },
          "colorway": [
           "#636efa",
           "#EF553B",
           "#00cc96",
           "#ab63fa",
           "#FFA15A",
           "#19d3f3",
           "#FF6692",
           "#B6E880",
           "#FF97FF",
           "#FECB52"
          ],
          "font": {
           "color": "#2a3f5f"
          },
          "geo": {
           "bgcolor": "white",
           "lakecolor": "white",
           "landcolor": "#E5ECF6",
           "showlakes": true,
           "showland": true,
           "subunitcolor": "white"
          },
          "hoverlabel": {
           "align": "left"
          },
          "hovermode": "closest",
          "mapbox": {
           "style": "light"
          },
          "paper_bgcolor": "white",
          "plot_bgcolor": "#E5ECF6",
          "polar": {
           "angularaxis": {
            "gridcolor": "white",
            "linecolor": "white",
            "ticks": ""
           },
           "bgcolor": "#E5ECF6",
           "radialaxis": {
            "gridcolor": "white",
            "linecolor": "white",
            "ticks": ""
           }
          },
          "scene": {
           "xaxis": {
            "backgroundcolor": "#E5ECF6",
            "gridcolor": "white",
            "gridwidth": 2,
            "linecolor": "white",
            "showbackground": true,
            "ticks": "",
            "zerolinecolor": "white"
           },
           "yaxis": {
            "backgroundcolor": "#E5ECF6",
            "gridcolor": "white",
            "gridwidth": 2,
            "linecolor": "white",
            "showbackground": true,
            "ticks": "",
            "zerolinecolor": "white"
           },
           "zaxis": {
            "backgroundcolor": "#E5ECF6",
            "gridcolor": "white",
            "gridwidth": 2,
            "linecolor": "white",
            "showbackground": true,
            "ticks": "",
            "zerolinecolor": "white"
           }
          },
          "shapedefaults": {
           "line": {
            "color": "#2a3f5f"
           }
          },
          "ternary": {
           "aaxis": {
            "gridcolor": "white",
            "linecolor": "white",
            "ticks": ""
           },
           "baxis": {
            "gridcolor": "white",
            "linecolor": "white",
            "ticks": ""
           },
           "bgcolor": "#E5ECF6",
           "caxis": {
            "gridcolor": "white",
            "linecolor": "white",
            "ticks": ""
           }
          },
          "title": {
           "x": 0.05
          },
          "xaxis": {
           "automargin": true,
           "gridcolor": "white",
           "linecolor": "white",
           "ticks": "",
           "title": {
            "standoff": 15
           },
           "zerolinecolor": "white",
           "zerolinewidth": 2
          },
          "yaxis": {
           "automargin": true,
           "gridcolor": "white",
           "linecolor": "white",
           "ticks": "",
           "title": {
            "standoff": 15
           },
           "zerolinecolor": "white",
           "zerolinewidth": 2
          }
         }
        },
        "title": {
         "text": "Vini con punteggio massimo"
        },
        "xaxis": {
         "anchor": "y",
         "domain": [
          0,
          1
         ],
         "title": {
          "text": "Varietà di Vino"
         }
        },
        "yaxis": {
         "anchor": "x",
         "domain": [
          0,
          1
         ],
         "title": {
          "text": "Punteggio"
         }
        }
       }
      },
      "text/html": [
       "<div>                            <div id=\"ec65600d-e173-403d-a0b3-2e47135b8d84\" class=\"plotly-graph-div\" style=\"height:525px; width:100%;\"></div>            <script type=\"text/javascript\">                require([\"plotly\"], function(Plotly) {                    window.PLOTLYENV=window.PLOTLYENV || {};                                    if (document.getElementById(\"ec65600d-e173-403d-a0b3-2e47135b8d84\")) {                    Plotly.newPlot(                        \"ec65600d-e173-403d-a0b3-2e47135b8d84\",                        [{\"alignmentgroup\":\"True\",\"customdata\":[[\"Chambers Rosewood Vineyards NV Rare Muscat (Rutherglen)\",350.0,\"Victoria\",\"Australia\",\"Chambers Rosewood Vineyards\"]],\"hovertemplate\":\"%{customdata[0]}\\u003cbr\\u003eVigna: %{hovertext}\\u003cbr\\u003ePrezzo: %{customdata[1]}\\u003cbr\\u003eLocalit\\u00e0: %{customdata[2]}\",\"hovertext\":[\"Chambers Rosewood Vineyards\"],\"legendgroup\":\"Australia\",\"marker\":{\"color\":\"#636efa\",\"pattern\":{\"shape\":\"\"}},\"name\":\"Australia\",\"offsetgroup\":\"Australia\",\"orientation\":\"v\",\"showlegend\":true,\"textposition\":\"auto\",\"x\":[\"Muscat\"],\"xaxis\":\"x\",\"y\":[100],\"yaxis\":\"y\",\"type\":\"bar\"},{\"alignmentgroup\":\"True\",\"customdata\":[[\"Avignonesi 1995 Occhio di Pernice  (Vin Santo di Montepulciano)\",210.0,\"Tuscany\",\"Italy\",\"Avignonesi\"],[\"Tenuta dell'Ornellaia 2007 Masseto Merlot (Toscana)\",460.0,\"Tuscany\",\"Italy\",\"Tenuta dell'Ornellaia\"],[\"Biondi Santi 2010 Riserva  (Brunello di Montalcino)\",550.0,\"Tuscany\",\"Italy\",\"Biondi Santi\"],[\"Casanova di Neri 2007 Cerretalto  (Brunello di Montalcino)\",270.0,\"Tuscany\",\"Italy\",\"Casanova di Neri\"]],\"hovertemplate\":\"%{customdata[0]}\\u003cbr\\u003eVigna: %{hovertext}\\u003cbr\\u003ePrezzo: %{customdata[1]}\\u003cbr\\u003eLocalit\\u00e0: %{customdata[2]}\",\"hovertext\":[\"Avignonesi\",\"Tenuta dell'Ornellaia\",\"Biondi Santi\",\"Casanova di Neri\"],\"legendgroup\":\"Italy\",\"marker\":{\"color\":\"#EF553B\",\"pattern\":{\"shape\":\"\"}},\"name\":\"Italy\",\"offsetgroup\":\"Italy\",\"orientation\":\"v\",\"showlegend\":true,\"textposition\":\"auto\",\"x\":[\"Prugnolo Gentile\",\"Merlot\",\"Sangiovese\",\"Sangiovese Grosso\"],\"xaxis\":\"x\",\"y\":[100,100,100,100],\"yaxis\":\"y\",\"type\":\"bar\"},{\"alignmentgroup\":\"True\",\"customdata\":[[\"Krug 2002 Brut  (Champagne)\",259.0,\"Champagne\",\"France\",\"Krug\"],[\"Ch\\u00e2teau L\\u00e9oville Barton 2010  Saint-Julien\",150.0,\"Bordeaux\",\"France\",\"Ch\\u00e2teau L\\u00e9oville Barton\"],[\"Louis Roederer 2008 Cristal Vintage Brut  (Champagne)\",250.0,\"Champagne\",\"France\",\"Louis Roederer\"],[\"Salon 2006 Le Mesnil Blanc de Blancs Brut Chardonnay (Champagne)\",617.0,\"Champagne\",\"France\",\"Salon\"],[\"Ch\\u00e2teau Lafite Rothschild 2010  Pauillac\",1500.0,\"Bordeaux\",\"France\",\"Ch\\u00e2teau Lafite Rothschild\"],[\"Ch\\u00e2teau Cheval Blanc 2010  Saint-\\u00c9milion\",1500.0,\"Bordeaux\",\"France\",\"Ch\\u00e2teau Cheval Blanc\"],[\"Ch\\u00e2teau L\\u00e9oville Las Cases 2010  Saint-Julien\",359.0,\"Bordeaux\",\"France\",\"Ch\\u00e2teau L\\u00e9oville Las Cases\"],[\"Ch\\u00e2teau Haut-Brion 2014  Pessac-L\\u00e9ognan\",848.0,\"Bordeaux\",\"France\",\"Ch\\u00e2teau Haut-Brion\"]],\"hovertemplate\":\"%{customdata[0]}\\u003cbr\\u003eVigna: %{hovertext}\\u003cbr\\u003ePrezzo: %{customdata[1]}\\u003cbr\\u003eLocalit\\u00e0: %{customdata[2]}\",\"hovertext\":[\"Krug\",\"Ch\\u00e2teau L\\u00e9oville Barton\",\"Louis Roederer\",\"Salon\",\"Ch\\u00e2teau Lafite Rothschild\",\"Ch\\u00e2teau Cheval Blanc\",\"Ch\\u00e2teau L\\u00e9oville Las Cases\",\"Ch\\u00e2teau Haut-Brion\"],\"legendgroup\":\"France\",\"marker\":{\"color\":\"#00cc96\",\"pattern\":{\"shape\":\"\"}},\"name\":\"France\",\"offsetgroup\":\"France\",\"orientation\":\"v\",\"showlegend\":true,\"textposition\":\"auto\",\"x\":[\"Champagne Blend\",\"Bordeaux-style Red Blend\",\"Champagne Blend\",\"Chardonnay\",\"Bordeaux-style Red Blend\",\"Bordeaux-style Red Blend\",\"Bordeaux-style Red Blend\",\"Bordeaux-style White Blend\"],\"xaxis\":\"x\",\"y\":[100,100,100,100,100,100,100,100],\"yaxis\":\"y\",\"type\":\"bar\"},{\"alignmentgroup\":\"True\",\"customdata\":[[\"Casa Ferreirinha 2008 Barca-Velha Red (Douro)\",450.0,\"Douro\",\"Portugal\",\"Casa Ferreirinha\"],[\"Quinta do Noval 2011 Nacional Vintage  (Port)\",650.0,\"Port\",\"Portugal\",\"Quinta do Noval\"]],\"hovertemplate\":\"%{customdata[0]}\\u003cbr\\u003eVigna: %{hovertext}\\u003cbr\\u003ePrezzo: %{customdata[1]}\\u003cbr\\u003eLocalit\\u00e0: %{customdata[2]}\",\"hovertext\":[\"Casa Ferreirinha\",\"Quinta do Noval\"],\"legendgroup\":\"Portugal\",\"marker\":{\"color\":\"#ab63fa\",\"pattern\":{\"shape\":\"\"}},\"name\":\"Portugal\",\"offsetgroup\":\"Portugal\",\"orientation\":\"v\",\"showlegend\":true,\"textposition\":\"auto\",\"x\":[\"Portuguese Red\",\"Port\"],\"xaxis\":\"x\",\"y\":[100,100],\"yaxis\":\"y\",\"type\":\"bar\"},{\"alignmentgroup\":\"True\",\"customdata\":[[\"Cardinale 2006 Cabernet Sauvignon (Napa Valley)\",200.0,\"California\",\"US\",\"Cardinale\"],[\"Charles Smith 2006 Royal City Syrah (Columbia Valley (WA))\",80.0,\"Washington\",\"US\",\"Charles Smith\"],[\"Verit\\u00e9 2007 La Muse Red (Sonoma County)\",450.0,\"California\",\"US\",\"Verit\\u00e9\"],[\"Cayuse 2008 Bionic Frog Syrah (Walla Walla Valley (WA))\",80.0,\"Washington\",\"US\",\"Cayuse\"]],\"hovertemplate\":\"%{customdata[0]}\\u003cbr\\u003eVigna: %{hovertext}\\u003cbr\\u003ePrezzo: %{customdata[1]}\\u003cbr\\u003eLocalit\\u00e0: %{customdata[2]}\",\"hovertext\":[\"Cardinale\",\"Charles Smith\",\"Verit\\u00e9\",\"Cayuse\"],\"legendgroup\":\"US\",\"marker\":{\"color\":\"#FFA15A\",\"pattern\":{\"shape\":\"\"}},\"name\":\"US\",\"offsetgroup\":\"US\",\"orientation\":\"v\",\"showlegend\":true,\"textposition\":\"auto\",\"x\":[\"Cabernet Sauvignon\",\"Syrah\",\"Bordeaux-style Red Blend\",\"Syrah\"],\"xaxis\":\"x\",\"y\":[100,100,100,100],\"yaxis\":\"y\",\"type\":\"bar\"}],                        {\"template\":{\"data\":{\"histogram2dcontour\":[{\"type\":\"histogram2dcontour\",\"colorbar\":{\"outlinewidth\":0,\"ticks\":\"\"},\"colorscale\":[[0.0,\"#0d0887\"],[0.1111111111111111,\"#46039f\"],[0.2222222222222222,\"#7201a8\"],[0.3333333333333333,\"#9c179e\"],[0.4444444444444444,\"#bd3786\"],[0.5555555555555556,\"#d8576b\"],[0.6666666666666666,\"#ed7953\"],[0.7777777777777778,\"#fb9f3a\"],[0.8888888888888888,\"#fdca26\"],[1.0,\"#f0f921\"]]}],\"choropleth\":[{\"type\":\"choropleth\",\"colorbar\":{\"outlinewidth\":0,\"ticks\":\"\"}}],\"histogram2d\":[{\"type\":\"histogram2d\",\"colorbar\":{\"outlinewidth\":0,\"ticks\":\"\"},\"colorscale\":[[0.0,\"#0d0887\"],[0.1111111111111111,\"#46039f\"],[0.2222222222222222,\"#7201a8\"],[0.3333333333333333,\"#9c179e\"],[0.4444444444444444,\"#bd3786\"],[0.5555555555555556,\"#d8576b\"],[0.6666666666666666,\"#ed7953\"],[0.7777777777777778,\"#fb9f3a\"],[0.8888888888888888,\"#fdca26\"],[1.0,\"#f0f921\"]]}],\"heatmap\":[{\"type\":\"heatmap\",\"colorbar\":{\"outlinewidth\":0,\"ticks\":\"\"},\"colorscale\":[[0.0,\"#0d0887\"],[0.1111111111111111,\"#46039f\"],[0.2222222222222222,\"#7201a8\"],[0.3333333333333333,\"#9c179e\"],[0.4444444444444444,\"#bd3786\"],[0.5555555555555556,\"#d8576b\"],[0.6666666666666666,\"#ed7953\"],[0.7777777777777778,\"#fb9f3a\"],[0.8888888888888888,\"#fdca26\"],[1.0,\"#f0f921\"]]}],\"heatmapgl\":[{\"type\":\"heatmapgl\",\"colorbar\":{\"outlinewidth\":0,\"ticks\":\"\"},\"colorscale\":[[0.0,\"#0d0887\"],[0.1111111111111111,\"#46039f\"],[0.2222222222222222,\"#7201a8\"],[0.3333333333333333,\"#9c179e\"],[0.4444444444444444,\"#bd3786\"],[0.5555555555555556,\"#d8576b\"],[0.6666666666666666,\"#ed7953\"],[0.7777777777777778,\"#fb9f3a\"],[0.8888888888888888,\"#fdca26\"],[1.0,\"#f0f921\"]]}],\"contourcarpet\":[{\"type\":\"contourcarpet\",\"colorbar\":{\"outlinewidth\":0,\"ticks\":\"\"}}],\"contour\":[{\"type\":\"contour\",\"colorbar\":{\"outlinewidth\":0,\"ticks\":\"\"},\"colorscale\":[[0.0,\"#0d0887\"],[0.1111111111111111,\"#46039f\"],[0.2222222222222222,\"#7201a8\"],[0.3333333333333333,\"#9c179e\"],[0.4444444444444444,\"#bd3786\"],[0.5555555555555556,\"#d8576b\"],[0.6666666666666666,\"#ed7953\"],[0.7777777777777778,\"#fb9f3a\"],[0.8888888888888888,\"#fdca26\"],[1.0,\"#f0f921\"]]}],\"surface\":[{\"type\":\"surface\",\"colorbar\":{\"outlinewidth\":0,\"ticks\":\"\"},\"colorscale\":[[0.0,\"#0d0887\"],[0.1111111111111111,\"#46039f\"],[0.2222222222222222,\"#7201a8\"],[0.3333333333333333,\"#9c179e\"],[0.4444444444444444,\"#bd3786\"],[0.5555555555555556,\"#d8576b\"],[0.6666666666666666,\"#ed7953\"],[0.7777777777777778,\"#fb9f3a\"],[0.8888888888888888,\"#fdca26\"],[1.0,\"#f0f921\"]]}],\"mesh3d\":[{\"type\":\"mesh3d\",\"colorbar\":{\"outlinewidth\":0,\"ticks\":\"\"}}],\"scatter\":[{\"fillpattern\":{\"fillmode\":\"overlay\",\"size\":10,\"solidity\":0.2},\"type\":\"scatter\"}],\"parcoords\":[{\"type\":\"parcoords\",\"line\":{\"colorbar\":{\"outlinewidth\":0,\"ticks\":\"\"}}}],\"scatterpolargl\":[{\"type\":\"scatterpolargl\",\"marker\":{\"colorbar\":{\"outlinewidth\":0,\"ticks\":\"\"}}}],\"bar\":[{\"error_x\":{\"color\":\"#2a3f5f\"},\"error_y\":{\"color\":\"#2a3f5f\"},\"marker\":{\"line\":{\"color\":\"#E5ECF6\",\"width\":0.5},\"pattern\":{\"fillmode\":\"overlay\",\"size\":10,\"solidity\":0.2}},\"type\":\"bar\"}],\"scattergeo\":[{\"type\":\"scattergeo\",\"marker\":{\"colorbar\":{\"outlinewidth\":0,\"ticks\":\"\"}}}],\"scatterpolar\":[{\"type\":\"scatterpolar\",\"marker\":{\"colorbar\":{\"outlinewidth\":0,\"ticks\":\"\"}}}],\"histogram\":[{\"marker\":{\"pattern\":{\"fillmode\":\"overlay\",\"size\":10,\"solidity\":0.2}},\"type\":\"histogram\"}],\"scattergl\":[{\"type\":\"scattergl\",\"marker\":{\"colorbar\":{\"outlinewidth\":0,\"ticks\":\"\"}}}],\"scatter3d\":[{\"type\":\"scatter3d\",\"line\":{\"colorbar\":{\"outlinewidth\":0,\"ticks\":\"\"}},\"marker\":{\"colorbar\":{\"outlinewidth\":0,\"ticks\":\"\"}}}],\"scattermapbox\":[{\"type\":\"scattermapbox\",\"marker\":{\"colorbar\":{\"outlinewidth\":0,\"ticks\":\"\"}}}],\"scatterternary\":[{\"type\":\"scatterternary\",\"marker\":{\"colorbar\":{\"outlinewidth\":0,\"ticks\":\"\"}}}],\"scattercarpet\":[{\"type\":\"scattercarpet\",\"marker\":{\"colorbar\":{\"outlinewidth\":0,\"ticks\":\"\"}}}],\"carpet\":[{\"aaxis\":{\"endlinecolor\":\"#2a3f5f\",\"gridcolor\":\"white\",\"linecolor\":\"white\",\"minorgridcolor\":\"white\",\"startlinecolor\":\"#2a3f5f\"},\"baxis\":{\"endlinecolor\":\"#2a3f5f\",\"gridcolor\":\"white\",\"linecolor\":\"white\",\"minorgridcolor\":\"white\",\"startlinecolor\":\"#2a3f5f\"},\"type\":\"carpet\"}],\"table\":[{\"cells\":{\"fill\":{\"color\":\"#EBF0F8\"},\"line\":{\"color\":\"white\"}},\"header\":{\"fill\":{\"color\":\"#C8D4E3\"},\"line\":{\"color\":\"white\"}},\"type\":\"table\"}],\"barpolar\":[{\"marker\":{\"line\":{\"color\":\"#E5ECF6\",\"width\":0.5},\"pattern\":{\"fillmode\":\"overlay\",\"size\":10,\"solidity\":0.2}},\"type\":\"barpolar\"}],\"pie\":[{\"automargin\":true,\"type\":\"pie\"}]},\"layout\":{\"autotypenumbers\":\"strict\",\"colorway\":[\"#636efa\",\"#EF553B\",\"#00cc96\",\"#ab63fa\",\"#FFA15A\",\"#19d3f3\",\"#FF6692\",\"#B6E880\",\"#FF97FF\",\"#FECB52\"],\"font\":{\"color\":\"#2a3f5f\"},\"hovermode\":\"closest\",\"hoverlabel\":{\"align\":\"left\"},\"paper_bgcolor\":\"white\",\"plot_bgcolor\":\"#E5ECF6\",\"polar\":{\"bgcolor\":\"#E5ECF6\",\"angularaxis\":{\"gridcolor\":\"white\",\"linecolor\":\"white\",\"ticks\":\"\"},\"radialaxis\":{\"gridcolor\":\"white\",\"linecolor\":\"white\",\"ticks\":\"\"}},\"ternary\":{\"bgcolor\":\"#E5ECF6\",\"aaxis\":{\"gridcolor\":\"white\",\"linecolor\":\"white\",\"ticks\":\"\"},\"baxis\":{\"gridcolor\":\"white\",\"linecolor\":\"white\",\"ticks\":\"\"},\"caxis\":{\"gridcolor\":\"white\",\"linecolor\":\"white\",\"ticks\":\"\"}},\"coloraxis\":{\"colorbar\":{\"outlinewidth\":0,\"ticks\":\"\"}},\"colorscale\":{\"sequential\":[[0.0,\"#0d0887\"],[0.1111111111111111,\"#46039f\"],[0.2222222222222222,\"#7201a8\"],[0.3333333333333333,\"#9c179e\"],[0.4444444444444444,\"#bd3786\"],[0.5555555555555556,\"#d8576b\"],[0.6666666666666666,\"#ed7953\"],[0.7777777777777778,\"#fb9f3a\"],[0.8888888888888888,\"#fdca26\"],[1.0,\"#f0f921\"]],\"sequentialminus\":[[0.0,\"#0d0887\"],[0.1111111111111111,\"#46039f\"],[0.2222222222222222,\"#7201a8\"],[0.3333333333333333,\"#9c179e\"],[0.4444444444444444,\"#bd3786\"],[0.5555555555555556,\"#d8576b\"],[0.6666666666666666,\"#ed7953\"],[0.7777777777777778,\"#fb9f3a\"],[0.8888888888888888,\"#fdca26\"],[1.0,\"#f0f921\"]],\"diverging\":[[0,\"#8e0152\"],[0.1,\"#c51b7d\"],[0.2,\"#de77ae\"],[0.3,\"#f1b6da\"],[0.4,\"#fde0ef\"],[0.5,\"#f7f7f7\"],[0.6,\"#e6f5d0\"],[0.7,\"#b8e186\"],[0.8,\"#7fbc41\"],[0.9,\"#4d9221\"],[1,\"#276419\"]]},\"xaxis\":{\"gridcolor\":\"white\",\"linecolor\":\"white\",\"ticks\":\"\",\"title\":{\"standoff\":15},\"zerolinecolor\":\"white\",\"automargin\":true,\"zerolinewidth\":2},\"yaxis\":{\"gridcolor\":\"white\",\"linecolor\":\"white\",\"ticks\":\"\",\"title\":{\"standoff\":15},\"zerolinecolor\":\"white\",\"automargin\":true,\"zerolinewidth\":2},\"scene\":{\"xaxis\":{\"backgroundcolor\":\"#E5ECF6\",\"gridcolor\":\"white\",\"linecolor\":\"white\",\"showbackground\":true,\"ticks\":\"\",\"zerolinecolor\":\"white\",\"gridwidth\":2},\"yaxis\":{\"backgroundcolor\":\"#E5ECF6\",\"gridcolor\":\"white\",\"linecolor\":\"white\",\"showbackground\":true,\"ticks\":\"\",\"zerolinecolor\":\"white\",\"gridwidth\":2},\"zaxis\":{\"backgroundcolor\":\"#E5ECF6\",\"gridcolor\":\"white\",\"linecolor\":\"white\",\"showbackground\":true,\"ticks\":\"\",\"zerolinecolor\":\"white\",\"gridwidth\":2}},\"shapedefaults\":{\"line\":{\"color\":\"#2a3f5f\"}},\"annotationdefaults\":{\"arrowcolor\":\"#2a3f5f\",\"arrowhead\":0,\"arrowwidth\":1},\"geo\":{\"bgcolor\":\"white\",\"landcolor\":\"#E5ECF6\",\"subunitcolor\":\"white\",\"showland\":true,\"showlakes\":true,\"lakecolor\":\"white\"},\"title\":{\"x\":0.05},\"mapbox\":{\"style\":\"light\"}}},\"xaxis\":{\"anchor\":\"y\",\"domain\":[0.0,1.0],\"title\":{\"text\":\"Variet\\u00e0 di Vino\"}},\"yaxis\":{\"anchor\":\"x\",\"domain\":[0.0,1.0],\"title\":{\"text\":\"Punteggio\"}},\"legend\":{\"title\":{\"text\":\"country\"},\"tracegroupgap\":0},\"title\":{\"text\":\"Vini con punteggio massimo\"},\"barmode\":\"relative\"},                        {\"responsive\": true}                    ).then(function(){\n",
       "                            \n",
       "var gd = document.getElementById('ec65600d-e173-403d-a0b3-2e47135b8d84');\n",
       "var x = new MutationObserver(function (mutations, observer) {{\n",
       "        var display = window.getComputedStyle(gd).display;\n",
       "        if (!display || display === 'none') {{\n",
       "            console.log([gd, 'removed!']);\n",
       "            Plotly.purge(gd);\n",
       "            observer.disconnect();\n",
       "        }}\n",
       "}});\n",
       "\n",
       "// Listen for the removal of the full notebook cells\n",
       "var notebookContainer = gd.closest('#notebook-container');\n",
       "if (notebookContainer) {{\n",
       "    x.observe(notebookContainer, {childList: true});\n",
       "}}\n",
       "\n",
       "// Listen for the clearing of the current output cell\n",
       "var outputEl = gd.closest('.output');\n",
       "if (outputEl) {{\n",
       "    x.observe(outputEl, {childList: true});\n",
       "}}\n",
       "\n",
       "                        })                };                });            </script>        </div>"
      ]
     },
     "metadata": {},
     "output_type": "display_data"
    }
   ],
   "source": [
    "# grafico a barre interattivo\n",
    "fig = px.bar(wines_with_100_points, x='variety', y='points', color='country',\n",
    "             labels={'variety': 'Varietà di Vino', 'points': 'Punteggio'},\n",
    "             title='Vini con punteggio massimo',\n",
    "             hover_data={'variety': False, 'points': False, 'country': False, 'winery': True, 'price': True, 'province': True},\n",
    "             hover_name='winery', \n",
    "             custom_data=['title', 'price', 'province'])\n",
    "\n",
    "# template per il testo al passaggio del mouse\n",
    "fig.update_traces(hovertemplate='%{customdata[0]}<br>Vigna: %{hovertext}<br>Prezzo: %{customdata[1]}<br>Località: %{customdata[2]}')\n",
    "\n",
    "fig.update_layout(xaxis_title='Varietà di Vino', yaxis_title='Punteggio')\n",
    "fig.show()"
   ]
  },
  {
   "cell_type": "markdown",
   "id": "07539789",
   "metadata": {},
   "source": [
    "Questo grafico rappresenta le varietà di vino che hanno ottenuto almeno con una bottiglia nel dataset, il punteggio massimo di 100. Il colore della barra indica il paese di provenienza del vino come spiega la legenda sulla destra. Il grafico è \"interattivo\" e al passaggio del mouse su ogni elemento, vengono mostrate informazioni aggiuntive dettagliate quali il titolo del vino, la vigna, il luogo e il prezzo. (In questo modo riusciamo anche ad identificare quali sono le vigne più rinomate, ovvero quelle che con almeno un vino sono riuscite ad aggiudicarsi il punteggio massimo)."
   ]
  },
  {
   "cell_type": "markdown",
   "id": "f89dddf7",
   "metadata": {},
   "source": [
    "Sono solamente 19 i vini che sono stati premiati con un punteggio di 100, e sono 5 i paesi che sono riusciti ad eccellere in questo campo: La Francia ha 4 varietà con il punteggio massimo: Bourdeaux-style Red Blend, Chardonnay, Champagne Blend, Bordeaux-style White Blend; esattamente quante l'Italia con il Merlot, Sangiovese Grosso, Sangiovese, Prugnolo Gentile. Gli US hanno 3 varietà eccellenti, il Portogallo 2: rispettivamente Syrah, Bordeaux-style Red Blend, Cabernet Sauvignon e Portuguese Red, Port. Chiude questa classifica dell'eccellenza l'Australia con il Muscat.\n",
    "\n",
    "Concludo segnalando quindi il Bordeaux-style Red Blend come la varietà numero uno in assoluto: compare ben 5 volte (e in due nazioni) tra i vini eccellenti che hanno ottenuto il punteggio massimo(4 francesi, e un americano). Sono solamente altre 2 le varietà che compaiono più di una volta e sono Champagne Blend e Syrah entrambi con 2 vini."
   ]
  },
  {
   "cell_type": "markdown",
   "id": "013000be",
   "metadata": {},
   "source": [
    "#### Vigne più apprezzate"
   ]
  },
  {
   "cell_type": "code",
   "execution_count": 240,
   "id": "396bb1df",
   "metadata": {},
   "outputs": [
    {
     "name": "stdout",
     "output_type": "stream",
     "text": [
      "Top vigne per punteggio medio:\n"
     ]
    },
    {
     "data": {
      "text/html": [
       "<div>\n",
       "<style scoped>\n",
       "    .dataframe tbody tr th:only-of-type {\n",
       "        vertical-align: middle;\n",
       "    }\n",
       "\n",
       "    .dataframe tbody tr th {\n",
       "        vertical-align: top;\n",
       "    }\n",
       "\n",
       "    .dataframe thead th {\n",
       "        text-align: right;\n",
       "    }\n",
       "</style>\n",
       "<table border=\"1\" class=\"dataframe\">\n",
       "  <thead>\n",
       "    <tr style=\"text-align: right;\">\n",
       "      <th></th>\n",
       "      <th></th>\n",
       "      <th></th>\n",
       "      <th>Punteggio Medio</th>\n",
       "      <th>Prezzo Medio</th>\n",
       "      <th>Numero di vini</th>\n",
       "    </tr>\n",
       "    <tr>\n",
       "      <th>winery</th>\n",
       "      <th>country</th>\n",
       "      <th>province</th>\n",
       "      <th></th>\n",
       "      <th></th>\n",
       "      <th></th>\n",
       "    </tr>\n",
       "  </thead>\n",
       "  <tbody>\n",
       "    <tr>\n",
       "      <th>Araujo</th>\n",
       "      <th>US</th>\n",
       "      <th>California</th>\n",
       "      <td>98.00</td>\n",
       "      <td>275.00</td>\n",
       "      <td>1</td>\n",
       "    </tr>\n",
       "    <tr>\n",
       "      <th>Gandona</th>\n",
       "      <th>US</th>\n",
       "      <th>California</th>\n",
       "      <td>97.00</td>\n",
       "      <td>190.00</td>\n",
       "      <td>1</td>\n",
       "    </tr>\n",
       "    <tr>\n",
       "      <th>Ovid</th>\n",
       "      <th>US</th>\n",
       "      <th>California</th>\n",
       "      <td>97.00</td>\n",
       "      <td>195.00</td>\n",
       "      <td>1</td>\n",
       "    </tr>\n",
       "    <tr>\n",
       "      <th>Standish</th>\n",
       "      <th>Australia</th>\n",
       "      <th>South Australia</th>\n",
       "      <td>97.00</td>\n",
       "      <td>121.67</td>\n",
       "      <td>3</td>\n",
       "    </tr>\n",
       "    <tr>\n",
       "      <th>J.L. Chave</th>\n",
       "      <th>France</th>\n",
       "      <th>Rhône Valley</th>\n",
       "      <td>97.00</td>\n",
       "      <td>125.00</td>\n",
       "      <td>1</td>\n",
       "    </tr>\n",
       "    <tr>\n",
       "      <th>Salon</th>\n",
       "      <th>France</th>\n",
       "      <th>Champagne</th>\n",
       "      <td>96.80</td>\n",
       "      <td>380.60</td>\n",
       "      <td>5</td>\n",
       "    </tr>\n",
       "    <tr>\n",
       "      <th>Tenuta dell'Ornellaia</th>\n",
       "      <th>Italy</th>\n",
       "      <th>Tuscany</th>\n",
       "      <td>96.70</td>\n",
       "      <td>286.50</td>\n",
       "      <td>10</td>\n",
       "    </tr>\n",
       "    <tr>\n",
       "      <th>Château Pétrus</th>\n",
       "      <th>France</th>\n",
       "      <th>Bordeaux</th>\n",
       "      <td>96.67</td>\n",
       "      <td>2250.00</td>\n",
       "      <td>3</td>\n",
       "    </tr>\n",
       "    <tr>\n",
       "      <th>Patrimony</th>\n",
       "      <th>US</th>\n",
       "      <th>California</th>\n",
       "      <td>96.00</td>\n",
       "      <td>275.00</td>\n",
       "      <td>1</td>\n",
       "    </tr>\n",
       "    <tr>\n",
       "      <th>Celani Family Vineyards</th>\n",
       "      <th>US</th>\n",
       "      <th>California</th>\n",
       "      <td>96.00</td>\n",
       "      <td>195.00</td>\n",
       "      <td>1</td>\n",
       "    </tr>\n",
       "  </tbody>\n",
       "</table>\n",
       "</div>"
      ],
      "text/plain": [
       "                                                   Punteggio Medio  \\\n",
       "winery                  country   province                           \n",
       "Araujo                  US        California                 98.00   \n",
       "Gandona                 US        California                 97.00   \n",
       "Ovid                    US        California                 97.00   \n",
       "Standish                Australia South Australia            97.00   \n",
       "J.L. Chave              France    Rhône Valley               97.00   \n",
       "Salon                   France    Champagne                  96.80   \n",
       "Tenuta dell'Ornellaia   Italy     Tuscany                    96.70   \n",
       "Château Pétrus          France    Bordeaux                   96.67   \n",
       "Patrimony               US        California                 96.00   \n",
       "Celani Family Vineyards US        California                 96.00   \n",
       "\n",
       "                                                   Prezzo Medio  \\\n",
       "winery                  country   province                        \n",
       "Araujo                  US        California             275.00   \n",
       "Gandona                 US        California             190.00   \n",
       "Ovid                    US        California             195.00   \n",
       "Standish                Australia South Australia        121.67   \n",
       "J.L. Chave              France    Rhône Valley           125.00   \n",
       "Salon                   France    Champagne              380.60   \n",
       "Tenuta dell'Ornellaia   Italy     Tuscany                286.50   \n",
       "Château Pétrus          France    Bordeaux              2250.00   \n",
       "Patrimony               US        California             275.00   \n",
       "Celani Family Vineyards US        California             195.00   \n",
       "\n",
       "                                                   Numero di vini  \n",
       "winery                  country   province                         \n",
       "Araujo                  US        California                    1  \n",
       "Gandona                 US        California                    1  \n",
       "Ovid                    US        California                    1  \n",
       "Standish                Australia South Australia               3  \n",
       "J.L. Chave              France    Rhône Valley                  1  \n",
       "Salon                   France    Champagne                     5  \n",
       "Tenuta dell'Ornellaia   Italy     Tuscany                      10  \n",
       "Château Pétrus          France    Bordeaux                      3  \n",
       "Patrimony               US        California                    1  \n",
       "Celani Family Vineyards US        California                    1  "
      ]
     },
     "execution_count": 240,
     "metadata": {},
     "output_type": "execute_result"
    }
   ],
   "source": [
    "# Calcolo il punteggio medio, prezzo medio, numero di occorrenze, country, province per ciascuna winery\n",
    "winery_data = data.groupby(['winery', 'country', 'province']).agg({\n",
    "    'points': 'mean',\n",
    "    'price': 'mean',\n",
    "    'winery': 'count'\n",
    "}).rename(columns={\n",
    "    'points': 'Punteggio Medio',\n",
    "    'price': 'Prezzo Medio',\n",
    "    'winery': 'Numero di vini'\n",
    "}).sort_values(by='Punteggio Medio', ascending=False)\n",
    "\n",
    "# formatto a 2 cifre decimali\n",
    "winery_data['Punteggio Medio'] = winery_data['Punteggio Medio'].round(2)\n",
    "winery_data['Prezzo Medio'] = winery_data['Prezzo Medio'].round(2)\n",
    "\n",
    "# Visualizzo i primi 10 risultati\n",
    "top_wineries = winery_data.head(10)\n",
    "print(\"Top vigne per punteggio medio:\")\n",
    "top_wineries"
   ]
  },
  {
   "cell_type": "markdown",
   "id": "ab17ce25",
   "metadata": {},
   "source": [
    "Questo output rappresenta le migliori vigne per media di punteggio. Quelle migliori in assoluto(con punteggio 100 con almeno una bottiglia) le abbiamo viste prima, nel grafico interattivo dei vini con punteggio 100. Come il recap precedente ho inserito anche il prezzo medio e il numero di occorrenze. In più troviamo anche la nazione in cui si trova la vigna, e la provincia. Notiamo che gli US hanno 5 vigne diverse in questa classifica, tutte situate in California. La Francia è rappresentata da 3 vigne, in 3 province diverse: Bordeaux, Champagne, Rhone Valley. Italia ha una vigna eccellente in questa classifica (tra l'altro quella con più vini giudicati tra queste altre nel ranking): Tenuta dell'Ornellaia in Toscana, con un punteggio medio superiore al 96(quasi 97) e un prezzo medio abbastanza alto (286.5). Anche l'Australia compare 3 volte in questa classifica con la sua vigna Standish in South Australia."
   ]
  },
  {
   "cell_type": "markdown",
   "id": "09d19269",
   "metadata": {},
   "source": [
    "## Parte2. Assortimento marketplace"
   ]
  },
  {
   "cell_type": "markdown",
   "id": "da9a4b10",
   "metadata": {},
   "source": [
    "Dopo aver esplorato a fondo il vasto universo vinicolo, mettendo in luce le varietà più apprezzate e le vigne di eccellenza, mi concentro ora a sviluppare una strategia di assortimento mirata per il nostro marketplace. L'obiettivo è selezionare con cura i vini italiani, offrendo ai nostri clienti un'esperienza di degustazione unica. Attraverso un'analisi accurata delineeremo una selezione diversificata e bilanciata, rispettando la qualità e valorizzando la varietà, per garantire un assortimento che soddisfi i gusti più raffinati e gli appassionati più esigenti. \n",
    "Possiamo dividere l'assortimento in base a criteri come la qualità del vino e il rapporto qualità prezzo. Ecco una possibile suddivisione: \n",
    "- **Categoria1** = 40% - vini di medio-alta qualità con prezzi medio-bassi\n",
    "- **Categoria2** = 30% - vini di altissima qualità con prezzi medio-alti\n",
    "- **Categoria3** = 20% - vini di qualità eccellente dalle migliori vigne\n",
    "- **Categoria4** = 10% - vini di qualità eccellente dal mondo\n",
    "\n",
    "Questo approccio permetterà di offrire una gamma diversificata di vini che soddisfino diversi tipi di clienti, dalle persone che cercano vini di altissima qualità senza considerazioni di prezzo, a coloro che vogliono un buon rapporto qualità-prezzo. Ovviamente, possiamo personalizzare queste percentuali in base alle preferenze specifiche e alle esigenze del mercato, o definire altri criteri per la selezione dell'assortimento. Il target di selezione iniziale sarà pari a 100 vini."
   ]
  },
  {
   "cell_type": "markdown",
   "id": "e1315d80",
   "metadata": {},
   "source": [
    "#### Analisi vini italiani"
   ]
  },
  {
   "cell_type": "code",
   "execution_count": 241,
   "id": "b4669ba8",
   "metadata": {},
   "outputs": [],
   "source": [
    "# Filtro il DataFrame per includere solo i vini italiani\n",
    "italian_wines = data[data['country'] == 'Italy']\n",
    "\n",
    "# escludo quelli senza prezzo (fondamentale per scegliere i vini)\n",
    "italian_wines = italian_wines.dropna(subset=['price'])"
   ]
  },
  {
   "cell_type": "code",
   "execution_count": 242,
   "id": "90469b7a",
   "metadata": {},
   "outputs": [
    {
     "data": {
      "text/html": [
       "<div>\n",
       "<style scoped>\n",
       "    .dataframe tbody tr th:only-of-type {\n",
       "        vertical-align: middle;\n",
       "    }\n",
       "\n",
       "    .dataframe tbody tr th {\n",
       "        vertical-align: top;\n",
       "    }\n",
       "\n",
       "    .dataframe thead th {\n",
       "        text-align: right;\n",
       "    }\n",
       "</style>\n",
       "<table border=\"1\" class=\"dataframe\">\n",
       "  <thead>\n",
       "    <tr style=\"text-align: right;\">\n",
       "      <th></th>\n",
       "      <th>points</th>\n",
       "      <th>price</th>\n",
       "    </tr>\n",
       "  </thead>\n",
       "  <tbody>\n",
       "    <tr>\n",
       "      <th>count</th>\n",
       "      <td>16914.000000</td>\n",
       "      <td>16914.000000</td>\n",
       "    </tr>\n",
       "    <tr>\n",
       "      <th>mean</th>\n",
       "      <td>88.618186</td>\n",
       "      <td>39.663770</td>\n",
       "    </tr>\n",
       "    <tr>\n",
       "      <th>std</th>\n",
       "      <td>2.660785</td>\n",
       "      <td>38.052479</td>\n",
       "    </tr>\n",
       "    <tr>\n",
       "      <th>min</th>\n",
       "      <td>80.000000</td>\n",
       "      <td>5.000000</td>\n",
       "    </tr>\n",
       "    <tr>\n",
       "      <th>25%</th>\n",
       "      <td>87.000000</td>\n",
       "      <td>18.000000</td>\n",
       "    </tr>\n",
       "    <tr>\n",
       "      <th>50%</th>\n",
       "      <td>88.000000</td>\n",
       "      <td>28.000000</td>\n",
       "    </tr>\n",
       "    <tr>\n",
       "      <th>75%</th>\n",
       "      <td>90.000000</td>\n",
       "      <td>50.000000</td>\n",
       "    </tr>\n",
       "    <tr>\n",
       "      <th>max</th>\n",
       "      <td>100.000000</td>\n",
       "      <td>900.000000</td>\n",
       "    </tr>\n",
       "  </tbody>\n",
       "</table>\n",
       "</div>"
      ],
      "text/plain": [
       "             points         price\n",
       "count  16914.000000  16914.000000\n",
       "mean      88.618186     39.663770\n",
       "std        2.660785     38.052479\n",
       "min       80.000000      5.000000\n",
       "25%       87.000000     18.000000\n",
       "50%       88.000000     28.000000\n",
       "75%       90.000000     50.000000\n",
       "max      100.000000    900.000000"
      ]
     },
     "execution_count": 242,
     "metadata": {},
     "output_type": "execute_result"
    }
   ],
   "source": [
    "# stats italian_wines\n",
    "italian_wines.describe()"
   ]
  },
  {
   "cell_type": "markdown",
   "id": "b99a0f3c",
   "metadata": {},
   "source": [
    "I vini italiani (con prezzo, fondamentale per il fine ultimo dell'analisi) sono 16914. Il punteggio medio è 88.6, il prezzo medio 39.6; il vino italiano più costoso costa 900 euro, e il più economico appena 5."
   ]
  },
  {
   "cell_type": "code",
   "execution_count": 243,
   "id": "a47b236b",
   "metadata": {},
   "outputs": [
    {
     "data": {
      "image/png": "[encoded data removed]",
      "text/plain": [
       "<Figure size 864x432 with 2 Axes>"
      ]
     },
     "metadata": {},
     "output_type": "display_data"
    }
   ],
   "source": [
    "# Creazione del violin plot per i punteggi\n",
    "plt.figure(figsize=(12, 6))\n",
    "plt.subplot(1, 2, 1)\n",
    "sns.violinplot(x='points', data=italian_wines, palette='Blues')\n",
    "plt.title('Violin Plot - Punteggi', fontweight='bold')\n",
    "\n",
    "# Creazione del violin plot per i prezzi\n",
    "plt.subplot(1, 2, 2)\n",
    "sns.violinplot(x='price', data=italian_wines, palette='Blues')\n",
    "plt.title('Violin Plot - Prezzi', fontweight='bold')\n",
    "\n",
    "plt.tight_layout()\n",
    "plt.show()"
   ]
  },
  {
   "cell_type": "code",
   "execution_count": 244,
   "id": "3df10a51",
   "metadata": {},
   "outputs": [
    {
     "data": {
      "image/png": "[encoded data removed]",
      "text/plain": [
       "<Figure size 432x432 with 3 Axes>"
      ]
     },
     "metadata": {},
     "output_type": "display_data"
    },
    {
     "data": {
      "image/png": "[encoded data removed]",
      "text/plain": [
       "<Figure size 432x288 with 1 Axes>"
      ]
     },
     "metadata": {},
     "output_type": "display_data"
    }
   ],
   "source": [
    "# Joint plot\n",
    "jp = sns.jointplot(x='points', y='price', data=italian_wines, kind='reg')\n",
    "jp.ax_joint.get_lines()[0].set_color('red')\n",
    "plt.show()\n",
    "\n",
    "# Box plot\n",
    "sns.boxplot(x='points', y='price', data=italian_wines)\n",
    "plt.show()\n"
   ]
  },
  {
   "cell_type": "code",
   "execution_count": 245,
   "id": "19624b25",
   "metadata": {},
   "outputs": [
    {
     "name": "stdout",
     "output_type": "stream",
     "text": [
      "Correlazione tra prezzo e punteggio per i vini italiani:\n",
      "\n"
     ]
    },
    {
     "data": {
      "text/html": [
       "<div>\n",
       "<style scoped>\n",
       "    .dataframe tbody tr th:only-of-type {\n",
       "        vertical-align: middle;\n",
       "    }\n",
       "\n",
       "    .dataframe tbody tr th {\n",
       "        vertical-align: top;\n",
       "    }\n",
       "\n",
       "    .dataframe thead th {\n",
       "        text-align: right;\n",
       "    }\n",
       "</style>\n",
       "<table border=\"1\" class=\"dataframe\">\n",
       "  <thead>\n",
       "    <tr style=\"text-align: right;\">\n",
       "      <th></th>\n",
       "      <th>points</th>\n",
       "      <th>price</th>\n",
       "    </tr>\n",
       "  </thead>\n",
       "  <tbody>\n",
       "    <tr>\n",
       "      <th>points</th>\n",
       "      <td>1.000000</td>\n",
       "      <td>0.528073</td>\n",
       "    </tr>\n",
       "    <tr>\n",
       "      <th>price</th>\n",
       "      <td>0.528073</td>\n",
       "      <td>1.000000</td>\n",
       "    </tr>\n",
       "  </tbody>\n",
       "</table>\n",
       "</div>"
      ],
      "text/plain": [
       "          points     price\n",
       "points  1.000000  0.528073\n",
       "price   0.528073  1.000000"
      ]
     },
     "execution_count": 245,
     "metadata": {},
     "output_type": "execute_result"
    }
   ],
   "source": [
    "# Creo un subset del DataFrame\n",
    "italian_wines_subset = italian_wines[['points', 'price']]\n",
    "\n",
    "# Calcola la correlazione tra prezzo e punteggio\n",
    "correlation = italian_wines_subset.corr()\n",
    "\n",
    "print(\"Correlazione tra prezzo e punteggio per i vini italiani:\\n\")\n",
    "correlation"
   ]
  },
  {
   "cell_type": "markdown",
   "id": "7287e5cb",
   "metadata": {},
   "source": [
    "Questo valore (0.52, più alto in italia che nella distribuzione generale) indica una correlazione moderata positiva tra il punteggio del vino e il suo prezzo: all'aumentare del punteggio, generalmente aumenta anche il prezzo e viceversa. Tuttavia, la correlazione non è estremamente forte. Sopra ho fatto un jointplot, un tipo di grafico bivariato che combina un grafico a dispersione rappresentante la distribuzione tra 2 variabili e i rispettivi istogrammi per ogni variabile. Il grafico mostra la relazione tra il punteggio del vino e il prezzo. Gli istogrammi laterali mostrano la distribuzione delle due variabili rispettivamente lungo l'asse x (punteggi) e lungo l'asse y (prezzi). Ho aggiunto anche qua la linea di regressione che rappresenta la tendenza generale tra le due variabili.Il boxplot invece analizza la distribuzione dei prezzi per ogni punteggio, mostrando chiaramente anche gli outlier di prezzo per ogni categoria di punteggio."
   ]
  },
  {
   "cell_type": "markdown",
   "id": "c17dc01a",
   "metadata": {},
   "source": [
    "#### Luoghi di provenienza dei vini italiani"
   ]
  },
  {
   "cell_type": "code",
   "execution_count": 246,
   "id": "5226dceb",
   "metadata": {},
   "outputs": [
    {
     "name": "stdout",
     "output_type": "stream",
     "text": [
      "Vini italiani e provenienze:\n",
      "\n"
     ]
    },
    {
     "data": {
      "text/html": [
       "<div>\n",
       "<style scoped>\n",
       "    .dataframe tbody tr th:only-of-type {\n",
       "        vertical-align: middle;\n",
       "    }\n",
       "\n",
       "    .dataframe tbody tr th {\n",
       "        vertical-align: top;\n",
       "    }\n",
       "\n",
       "    .dataframe thead th {\n",
       "        text-align: right;\n",
       "    }\n",
       "</style>\n",
       "<table border=\"1\" class=\"dataframe\">\n",
       "  <thead>\n",
       "    <tr style=\"text-align: right;\">\n",
       "      <th></th>\n",
       "      <th>Punteggio Medio</th>\n",
       "      <th>Prezzo Medio</th>\n",
       "      <th>Numero di Occorrenze</th>\n",
       "      <th>Percentuale</th>\n",
       "    </tr>\n",
       "    <tr>\n",
       "      <th>province</th>\n",
       "      <th></th>\n",
       "      <th></th>\n",
       "      <th></th>\n",
       "      <th></th>\n",
       "    </tr>\n",
       "  </thead>\n",
       "  <tbody>\n",
       "    <tr>\n",
       "      <th>Piedmont</th>\n",
       "      <td>89.58</td>\n",
       "      <td>54.96</td>\n",
       "      <td>3089</td>\n",
       "      <td>18.26</td>\n",
       "    </tr>\n",
       "    <tr>\n",
       "      <th>Tuscany</th>\n",
       "      <td>89.15</td>\n",
       "      <td>47.68</td>\n",
       "      <td>5128</td>\n",
       "      <td>30.32</td>\n",
       "    </tr>\n",
       "    <tr>\n",
       "      <th>Lombardy</th>\n",
       "      <td>88.87</td>\n",
       "      <td>36.95</td>\n",
       "      <td>481</td>\n",
       "      <td>2.84</td>\n",
       "    </tr>\n",
       "    <tr>\n",
       "      <th>Sicily &amp; Sardinia</th>\n",
       "      <td>88.19</td>\n",
       "      <td>27.62</td>\n",
       "      <td>1559</td>\n",
       "      <td>9.22</td>\n",
       "    </tr>\n",
       "    <tr>\n",
       "      <th>Northeastern Italy</th>\n",
       "      <td>88.04</td>\n",
       "      <td>27.05</td>\n",
       "      <td>1986</td>\n",
       "      <td>11.74</td>\n",
       "    </tr>\n",
       "    <tr>\n",
       "      <th>Italy Other</th>\n",
       "      <td>87.96</td>\n",
       "      <td>32.07</td>\n",
       "      <td>112</td>\n",
       "      <td>0.66</td>\n",
       "    </tr>\n",
       "    <tr>\n",
       "      <th>Southern Italy</th>\n",
       "      <td>87.86</td>\n",
       "      <td>27.80</td>\n",
       "      <td>1131</td>\n",
       "      <td>6.69</td>\n",
       "    </tr>\n",
       "    <tr>\n",
       "      <th>Veneto</th>\n",
       "      <td>87.86</td>\n",
       "      <td>34.01</td>\n",
       "      <td>2315</td>\n",
       "      <td>13.69</td>\n",
       "    </tr>\n",
       "    <tr>\n",
       "      <th>Central Italy</th>\n",
       "      <td>87.43</td>\n",
       "      <td>25.44</td>\n",
       "      <td>1100</td>\n",
       "      <td>6.50</td>\n",
       "    </tr>\n",
       "    <tr>\n",
       "      <th>Northwestern Italy</th>\n",
       "      <td>87.00</td>\n",
       "      <td>22.08</td>\n",
       "      <td>13</td>\n",
       "      <td>0.08</td>\n",
       "    </tr>\n",
       "  </tbody>\n",
       "</table>\n",
       "</div>"
      ],
      "text/plain": [
       "                    Punteggio Medio  Prezzo Medio  Numero di Occorrenze  \\\n",
       "province                                                                  \n",
       "Piedmont                      89.58         54.96                  3089   \n",
       "Tuscany                       89.15         47.68                  5128   \n",
       "Lombardy                      88.87         36.95                   481   \n",
       "Sicily & Sardinia             88.19         27.62                  1559   \n",
       "Northeastern Italy            88.04         27.05                  1986   \n",
       "Italy Other                   87.96         32.07                   112   \n",
       "Southern Italy                87.86         27.80                  1131   \n",
       "Veneto                        87.86         34.01                  2315   \n",
       "Central Italy                 87.43         25.44                  1100   \n",
       "Northwestern Italy            87.00         22.08                    13   \n",
       "\n",
       "                    Percentuale  \n",
       "province                         \n",
       "Piedmont                  18.26  \n",
       "Tuscany                   30.32  \n",
       "Lombardy                   2.84  \n",
       "Sicily & Sardinia          9.22  \n",
       "Northeastern Italy        11.74  \n",
       "Italy Other                0.66  \n",
       "Southern Italy             6.69  \n",
       "Veneto                    13.69  \n",
       "Central Italy              6.50  \n",
       "Northwestern Italy         0.08  "
      ]
     },
     "execution_count": 246,
     "metadata": {},
     "output_type": "execute_result"
    }
   ],
   "source": [
    "# Raggruppo per provincia e calcolo le statistiche\n",
    "province_stats = italian_wines.groupby('province').agg({\n",
    "    'points': 'mean',\n",
    "    'price': 'mean',\n",
    "    'province': 'count'\n",
    "})\n",
    "\n",
    "# Rinomino le colonne\n",
    "province_stats = province_stats.rename(columns={'province': 'Numero di Occorrenze', 'points': 'Punteggio Medio', 'price': 'Prezzo Medio'})\n",
    "\n",
    "# Ordino in base al punteggio medio in modo decrescente\n",
    "province_stats = province_stats.sort_values(by='Punteggio Medio', ascending=False)\n",
    "\n",
    "# Calcolo il totale delle occorrenze per tutte le province italiane\n",
    "total_occorrenze_italia = province_stats['Numero di Occorrenze'].sum()\n",
    "\n",
    "# Calcolo la percentuale rappresentativa per ogni provincia\n",
    "province_stats['Percentuale'] = (province_stats['Numero di Occorrenze'] / total_occorrenze_italia) * 100\n",
    "\n",
    "# Arrotondo le colonne a 2 decimali\n",
    "province_stats['Punteggio Medio'] = province_stats['Punteggio Medio'].round(2)\n",
    "province_stats['Prezzo Medio'] = province_stats['Prezzo Medio'].round(2)\n",
    "province_stats['Percentuale'] = province_stats['Percentuale'].round(2)\n",
    "\n",
    "print(\"Vini italiani e provenienze:\\n\")\n",
    "province_stats"
   ]
  },
  {
   "cell_type": "markdown",
   "id": "a14c1e70",
   "metadata": {},
   "source": [
    "Questo output mostra i luoghi di provenienza dei vini italiani nel nostro dataset. Ci sono solamente 10 \"località\" di provenienza: per ogni luogo ho contato il numero di vini, punteggio medio e prezzo medio. Come plus ho calcolato anche la percentuale rappresentativa della regione rispetto al totale dei vini italiani, che utilizzerò nel grafico successivo. Scopriamo quindi che i punteggi medi più alti spettano a Piemonte e Toscana (89) così come i prezzi più alti. Sono anche le regioni con più occorrenze nei dati: conseguenza dell'aver calcolato la percentuale rappresentativa di ogni luogo, scopriamo che Piemonte e Toscana insieme contano più del 48% di tutti i vini italiani del dataset analizzato(con il prezzo)."
   ]
  },
  {
   "cell_type": "code",
   "execution_count": 247,
   "id": "9cacfb77",
   "metadata": {},
   "outputs": [
    {
     "data": {
      "image/png": "[encoded data removed]",
      "text/plain": [
       "<Figure size 720x720 with 1 Axes>"
      ]
     },
     "metadata": {},
     "output_type": "display_data"
    }
   ],
   "source": [
    "# Estraggo le etichette delle province e le percentuali\n",
    "labels = province_stats.index\n",
    "percentages = province_stats['Percentuale']\n",
    "\n",
    "# Colori per ogni fetta\n",
    "colors = plt.cm.tab20.colors\n",
    "\n",
    "# Lista di esplosioni per evidenziare le fette desiderate\n",
    "explode = [0.1 if label in ['Tuscany', 'Piedmont'] else 0 for label in labels]\n",
    "\n",
    "# Creo il grafico a torta\n",
    "plt.figure(figsize=(10, 10))\n",
    "wedges, texts, autotexts = plt.pie(percentages, labels=labels, autopct='%1.1f%%', colors=colors,\n",
    "                                  startangle=140, explode=explode, wedgeprops={'edgecolor': 'black'})\n",
    "\n",
    "# Aggiungo un titolo\n",
    "plt.title('Distribuzione Percentuale dei Vini per Luoghi in Italia', fontweight='bold', fontsize=20, y=1.07)\n",
    "\n",
    "# Mostro il grafico\n",
    "plt.show()"
   ]
  },
  {
   "cell_type": "markdown",
   "id": "5aafa1f1",
   "metadata": {},
   "source": [
    "Obiettivo dichiarato del marketplace è quello di mettere in contatto piccoli produttori locali con acquirenti da tutto il mondo. Avere una chiara idea di tutti i luoghi di provenienza del vino italiano mi aiuterà ad includere tutte le \"regioni\" presenti nei dati."
   ]
  },
  {
   "cell_type": "markdown",
   "id": "4541b7e0",
   "metadata": {},
   "source": [
    "#### Varietà vini italiani"
   ]
  },
  {
   "cell_type": "code",
   "execution_count": 248,
   "id": "119731ef",
   "metadata": {},
   "outputs": [
    {
     "name": "stdout",
     "output_type": "stream",
     "text": [
      "Top20 varietà italiane per punteggio medio:\n",
      "\n"
     ]
    },
    {
     "data": {
      "text/html": [
       "<div>\n",
       "<style scoped>\n",
       "    .dataframe tbody tr th:only-of-type {\n",
       "        vertical-align: middle;\n",
       "    }\n",
       "\n",
       "    .dataframe tbody tr th {\n",
       "        vertical-align: top;\n",
       "    }\n",
       "\n",
       "    .dataframe thead th {\n",
       "        text-align: right;\n",
       "    }\n",
       "</style>\n",
       "<table border=\"1\" class=\"dataframe\">\n",
       "  <thead>\n",
       "    <tr style=\"text-align: right;\">\n",
       "      <th></th>\n",
       "      <th>Punteggio Medio</th>\n",
       "      <th>Prezzo Medio</th>\n",
       "      <th>Numero di vini</th>\n",
       "    </tr>\n",
       "    <tr>\n",
       "      <th>variety</th>\n",
       "      <th></th>\n",
       "      <th></th>\n",
       "      <th></th>\n",
       "    </tr>\n",
       "  </thead>\n",
       "  <tbody>\n",
       "    <tr>\n",
       "      <th>Roviello</th>\n",
       "      <td>93.00</td>\n",
       "      <td>28.00</td>\n",
       "      <td>1</td>\n",
       "    </tr>\n",
       "    <tr>\n",
       "      <th>Sirica</th>\n",
       "      <td>92.50</td>\n",
       "      <td>23.00</td>\n",
       "      <td>2</td>\n",
       "    </tr>\n",
       "    <tr>\n",
       "      <th>Pignolo</th>\n",
       "      <td>92.00</td>\n",
       "      <td>70.00</td>\n",
       "      <td>1</td>\n",
       "    </tr>\n",
       "    <tr>\n",
       "      <th>Cabernet Sauvignon-Merlot</th>\n",
       "      <td>92.00</td>\n",
       "      <td>61.50</td>\n",
       "      <td>2</td>\n",
       "    </tr>\n",
       "    <tr>\n",
       "      <th>Caprettone</th>\n",
       "      <td>92.00</td>\n",
       "      <td>19.00</td>\n",
       "      <td>1</td>\n",
       "    </tr>\n",
       "    <tr>\n",
       "      <th>Centesimino</th>\n",
       "      <td>92.00</td>\n",
       "      <td>36.00</td>\n",
       "      <td>1</td>\n",
       "    </tr>\n",
       "    <tr>\n",
       "      <th>Moscato di Noto</th>\n",
       "      <td>92.00</td>\n",
       "      <td>40.00</td>\n",
       "      <td>1</td>\n",
       "    </tr>\n",
       "    <tr>\n",
       "      <th>Vespaiolo</th>\n",
       "      <td>92.00</td>\n",
       "      <td>40.00</td>\n",
       "      <td>1</td>\n",
       "    </tr>\n",
       "    <tr>\n",
       "      <th>Picolit</th>\n",
       "      <td>91.50</td>\n",
       "      <td>70.09</td>\n",
       "      <td>22</td>\n",
       "    </tr>\n",
       "    <tr>\n",
       "      <th>Cabernet Franc</th>\n",
       "      <td>91.38</td>\n",
       "      <td>86.25</td>\n",
       "      <td>24</td>\n",
       "    </tr>\n",
       "    <tr>\n",
       "      <th>Torbato</th>\n",
       "      <td>91.00</td>\n",
       "      <td>20.00</td>\n",
       "      <td>2</td>\n",
       "    </tr>\n",
       "    <tr>\n",
       "      <th>Francisa</th>\n",
       "      <td>91.00</td>\n",
       "      <td>160.00</td>\n",
       "      <td>1</td>\n",
       "    </tr>\n",
       "    <tr>\n",
       "      <th>Sangiovese Grosso</th>\n",
       "      <td>90.81</td>\n",
       "      <td>65.67</td>\n",
       "      <td>588</td>\n",
       "    </tr>\n",
       "    <tr>\n",
       "      <th>Timorasso</th>\n",
       "      <td>90.60</td>\n",
       "      <td>41.60</td>\n",
       "      <td>5</td>\n",
       "    </tr>\n",
       "    <tr>\n",
       "      <th>Vitovska</th>\n",
       "      <td>90.50</td>\n",
       "      <td>85.00</td>\n",
       "      <td>2</td>\n",
       "    </tr>\n",
       "    <tr>\n",
       "      <th>Nasco</th>\n",
       "      <td>90.50</td>\n",
       "      <td>37.50</td>\n",
       "      <td>2</td>\n",
       "    </tr>\n",
       "    <tr>\n",
       "      <th>Nebbiolo</th>\n",
       "      <td>90.40</td>\n",
       "      <td>66.45</td>\n",
       "      <td>2265</td>\n",
       "    </tr>\n",
       "    <tr>\n",
       "      <th>Carignano</th>\n",
       "      <td>90.36</td>\n",
       "      <td>36.79</td>\n",
       "      <td>14</td>\n",
       "    </tr>\n",
       "    <tr>\n",
       "      <th>Sagrantino</th>\n",
       "      <td>90.08</td>\n",
       "      <td>53.38</td>\n",
       "      <td>89</td>\n",
       "    </tr>\n",
       "    <tr>\n",
       "      <th>Moscato Rosa</th>\n",
       "      <td>90.00</td>\n",
       "      <td>33.50</td>\n",
       "      <td>2</td>\n",
       "    </tr>\n",
       "  </tbody>\n",
       "</table>\n",
       "</div>"
      ],
      "text/plain": [
       "                           Punteggio Medio  Prezzo Medio  Numero di vini\n",
       "variety                                                                 \n",
       "Roviello                             93.00         28.00               1\n",
       "Sirica                               92.50         23.00               2\n",
       "Pignolo                              92.00         70.00               1\n",
       "Cabernet Sauvignon-Merlot            92.00         61.50               2\n",
       "Caprettone                           92.00         19.00               1\n",
       "Centesimino                          92.00         36.00               1\n",
       "Moscato di Noto                      92.00         40.00               1\n",
       "Vespaiolo                            92.00         40.00               1\n",
       "Picolit                              91.50         70.09              22\n",
       "Cabernet Franc                       91.38         86.25              24\n",
       "Torbato                              91.00         20.00               2\n",
       "Francisa                             91.00        160.00               1\n",
       "Sangiovese Grosso                    90.81         65.67             588\n",
       "Timorasso                            90.60         41.60               5\n",
       "Vitovska                             90.50         85.00               2\n",
       "Nasco                                90.50         37.50               2\n",
       "Nebbiolo                             90.40         66.45            2265\n",
       "Carignano                            90.36         36.79              14\n",
       "Sagrantino                           90.08         53.38              89\n",
       "Moscato Rosa                         90.00         33.50               2"
      ]
     },
     "execution_count": 248,
     "metadata": {},
     "output_type": "execute_result"
    }
   ],
   "source": [
    "# Raggruppo per varietà e calcola le statistiche\n",
    "variety_stats = italian_wines.groupby('variety').agg({\n",
    "    'points': 'mean',\n",
    "    'price': 'mean',\n",
    "    'variety': 'count'\n",
    "})\n",
    "\n",
    "# Rinomino le colonne\n",
    "variety_stats = variety_stats.rename(columns={'variety': 'Numero di vini', 'points': 'Punteggio Medio', 'price': 'Prezzo Medio'})\n",
    "\n",
    "# Formattazione a 2 cifre decimali\n",
    "variety_stats['Punteggio Medio'] = variety_stats['Punteggio Medio'].round(2)\n",
    "variety_stats['Prezzo Medio'] = variety_stats['Prezzo Medio'].round(2)\n",
    "\n",
    "# Ordino in base al punteggio medio in modo decrescente\n",
    "variety_stats = variety_stats.sort_values(by='Punteggio Medio', ascending=False)\n",
    "\n",
    "print(\"Top20 varietà italiane per punteggio medio:\\n\")\n",
    "variety_stats.head(20)"
   ]
  },
  {
   "cell_type": "markdown",
   "id": "10313257",
   "metadata": {},
   "source": [
    "Questo output rappresenta le top20 varietà di vino italiane, secondo la valutazione media, con il numero di occorrenze. Anche in questo caso, potrebbe non essere completamente rappresentativa della realtà questa classifica, in quanto ci possono essere nel dataset molte varietà di vino che magari hanno ottenuto almeno una volta (anche qua alcune varietà compaiono solo una volta -perlomeno con il prezzo) un punteggio più alto per alcuni vini, ma tuttavia la media totale del punteggio, essendo influenzata da un numero maggiore e potenzialmente molto alto di vini nel dataset, rimane più bassa. Per questo motivo ho inserito nel recap anche il numero delle occorrenze; in questo modo riusciamo ad avere un'idea di quanto la media del punteggio, o del prezzo, sia indicativa della realtà."
   ]
  },
  {
   "cell_type": "code",
   "execution_count": 249,
   "id": "b0049d8f",
   "metadata": {},
   "outputs": [
    {
     "name": "stdout",
     "output_type": "stream",
     "text": [
      "Primi 20 vini italiani ordinati per punteggio:\n"
     ]
    },
    {
     "data": {
      "text/html": [
       "<div>\n",
       "<style scoped>\n",
       "    .dataframe tbody tr th:only-of-type {\n",
       "        vertical-align: middle;\n",
       "    }\n",
       "\n",
       "    .dataframe tbody tr th {\n",
       "        vertical-align: top;\n",
       "    }\n",
       "\n",
       "    .dataframe thead th {\n",
       "        text-align: right;\n",
       "    }\n",
       "</style>\n",
       "<table border=\"1\" class=\"dataframe\">\n",
       "  <thead>\n",
       "    <tr style=\"text-align: right;\">\n",
       "      <th></th>\n",
       "      <th>country</th>\n",
       "      <th>description</th>\n",
       "      <th>designation</th>\n",
       "      <th>points</th>\n",
       "      <th>price</th>\n",
       "      <th>province</th>\n",
       "      <th>region_1</th>\n",
       "      <th>region_2</th>\n",
       "      <th>title</th>\n",
       "      <th>variety</th>\n",
       "      <th>winery</th>\n",
       "    </tr>\n",
       "  </thead>\n",
       "  <tbody>\n",
       "    <tr>\n",
       "      <th>7335</th>\n",
       "      <td>Italy</td>\n",
       "      <td>Thick as molasses and dark as caramelized brow...</td>\n",
       "      <td>Occhio di Pernice</td>\n",
       "      <td>100</td>\n",
       "      <td>210.0</td>\n",
       "      <td>Tuscany</td>\n",
       "      <td>Vin Santo di Montepulciano</td>\n",
       "      <td>NaN</td>\n",
       "      <td>Avignonesi 1995 Occhio di Pernice  (Vin Santo ...</td>\n",
       "      <td>Prugnolo Gentile</td>\n",
       "      <td>Avignonesi</td>\n",
       "    </tr>\n",
       "    <tr>\n",
       "      <th>45781</th>\n",
       "      <td>Italy</td>\n",
       "      <td>This gorgeous, fragrant wine opens with classi...</td>\n",
       "      <td>Riserva</td>\n",
       "      <td>100</td>\n",
       "      <td>550.0</td>\n",
       "      <td>Tuscany</td>\n",
       "      <td>Brunello di Montalcino</td>\n",
       "      <td>NaN</td>\n",
       "      <td>Biondi Santi 2010 Riserva  (Brunello di Montal...</td>\n",
       "      <td>Sangiovese</td>\n",
       "      <td>Biondi Santi</td>\n",
       "    </tr>\n",
       "    <tr>\n",
       "      <th>39286</th>\n",
       "      <td>Italy</td>\n",
       "      <td>A perfect wine from a classic vintage, the 200...</td>\n",
       "      <td>Masseto</td>\n",
       "      <td>100</td>\n",
       "      <td>460.0</td>\n",
       "      <td>Tuscany</td>\n",
       "      <td>Toscana</td>\n",
       "      <td>NaN</td>\n",
       "      <td>Tenuta dell'Ornellaia 2007 Masseto Merlot (Tos...</td>\n",
       "      <td>Merlot</td>\n",
       "      <td>Tenuta dell'Ornellaia</td>\n",
       "    </tr>\n",
       "    <tr>\n",
       "      <th>111754</th>\n",
       "      <td>Italy</td>\n",
       "      <td>It takes only a few moments before you appreci...</td>\n",
       "      <td>Cerretalto</td>\n",
       "      <td>100</td>\n",
       "      <td>270.0</td>\n",
       "      <td>Tuscany</td>\n",
       "      <td>Brunello di Montalcino</td>\n",
       "      <td>NaN</td>\n",
       "      <td>Casanova di Neri 2007 Cerretalto  (Brunello di...</td>\n",
       "      <td>Sangiovese Grosso</td>\n",
       "      <td>Casanova di Neri</td>\n",
       "    </tr>\n",
       "    <tr>\n",
       "      <th>45573</th>\n",
       "      <td>Italy</td>\n",
       "      <td>Elegant and complex, this gorgeous wine is all...</td>\n",
       "      <td>Monprivato</td>\n",
       "      <td>99</td>\n",
       "      <td>175.0</td>\n",
       "      <td>Piedmont</td>\n",
       "      <td>Barolo</td>\n",
       "      <td>NaN</td>\n",
       "      <td>Mascarello Giuseppe e Figlio 2010 Monprivato  ...</td>\n",
       "      <td>Nebbiolo</td>\n",
       "      <td>Mascarello Giuseppe e Figlio</td>\n",
       "    </tr>\n",
       "    <tr>\n",
       "      <th>35517</th>\n",
       "      <td>Italy</td>\n",
       "      <td>One of Italy's most iconic bottlings, the 2012...</td>\n",
       "      <td>Sassicaia</td>\n",
       "      <td>99</td>\n",
       "      <td>235.0</td>\n",
       "      <td>Tuscany</td>\n",
       "      <td>Bolgheri Sassicaia</td>\n",
       "      <td>NaN</td>\n",
       "      <td>Tenuta San Guido 2012 Sassicaia  (Bolgheri Sas...</td>\n",
       "      <td>Red Blend</td>\n",
       "      <td>Tenuta San Guido</td>\n",
       "    </tr>\n",
       "    <tr>\n",
       "      <th>122936</th>\n",
       "      <td>Italy</td>\n",
       "      <td>Perfumed berry, rose, new leather and dark spi...</td>\n",
       "      <td>Madonna delle Grazie</td>\n",
       "      <td>99</td>\n",
       "      <td>200.0</td>\n",
       "      <td>Tuscany</td>\n",
       "      <td>Brunello di Montalcino</td>\n",
       "      <td>NaN</td>\n",
       "      <td>Il Marroneto 2012 Madonna delle Grazie  (Brune...</td>\n",
       "      <td>Sangiovese</td>\n",
       "      <td>Il Marroneto</td>\n",
       "    </tr>\n",
       "    <tr>\n",
       "      <th>60881</th>\n",
       "      <td>Italy</td>\n",
       "      <td>Always a standout among Gaja's five single-vin...</td>\n",
       "      <td>Sorì San Lorenzo</td>\n",
       "      <td>99</td>\n",
       "      <td>440.0</td>\n",
       "      <td>Piedmont</td>\n",
       "      <td>Langhe</td>\n",
       "      <td>NaN</td>\n",
       "      <td>Gaja 2007 Sorì San Lorenzo Nebbiolo (Langhe)</td>\n",
       "      <td>Nebbiolo</td>\n",
       "      <td>Gaja</td>\n",
       "    </tr>\n",
       "    <tr>\n",
       "      <th>60880</th>\n",
       "      <td>Italy</td>\n",
       "      <td>This is an elegant Nebbiolo-based wine and arg...</td>\n",
       "      <td>Sorì Tildìn</td>\n",
       "      <td>99</td>\n",
       "      <td>440.0</td>\n",
       "      <td>Piedmont</td>\n",
       "      <td>Langhe</td>\n",
       "      <td>NaN</td>\n",
       "      <td>Gaja 2007 Sorì Tildìn Nebbiolo (Langhe)</td>\n",
       "      <td>Nebbiolo</td>\n",
       "      <td>Gaja</td>\n",
       "    </tr>\n",
       "    <tr>\n",
       "      <th>39287</th>\n",
       "      <td>Italy</td>\n",
       "      <td>Here's a “wow” wine you won't easily forget. M...</td>\n",
       "      <td>Messorio</td>\n",
       "      <td>99</td>\n",
       "      <td>320.0</td>\n",
       "      <td>Tuscany</td>\n",
       "      <td>Toscana</td>\n",
       "      <td>NaN</td>\n",
       "      <td>Le Macchiole 2007 Messorio Merlot (Toscana)</td>\n",
       "      <td>Merlot</td>\n",
       "      <td>Le Macchiole</td>\n",
       "    </tr>\n",
       "    <tr>\n",
       "      <th>79104</th>\n",
       "      <td>Italy</td>\n",
       "      <td>Even better than the highly acclaimed 2001 vin...</td>\n",
       "      <td>Masseto</td>\n",
       "      <td>99</td>\n",
       "      <td>250.0</td>\n",
       "      <td>Tuscany</td>\n",
       "      <td>Toscana</td>\n",
       "      <td>NaN</td>\n",
       "      <td>Tenuta dell'Ornellaia 2004 Masseto Merlot (Tos...</td>\n",
       "      <td>Merlot</td>\n",
       "      <td>Tenuta dell'Ornellaia</td>\n",
       "    </tr>\n",
       "    <tr>\n",
       "      <th>82750</th>\n",
       "      <td>Italy</td>\n",
       "      <td>This sweet wine from Italy is guaranteed to bl...</td>\n",
       "      <td>Occhio di Pernice</td>\n",
       "      <td>99</td>\n",
       "      <td>237.0</td>\n",
       "      <td>Tuscany</td>\n",
       "      <td>Vin Santo di Montepulciano</td>\n",
       "      <td>NaN</td>\n",
       "      <td>Avignonesi 1997 Occhio di Pernice  (Vin Santo ...</td>\n",
       "      <td>Prugnolo Gentile</td>\n",
       "      <td>Avignonesi</td>\n",
       "    </tr>\n",
       "    <tr>\n",
       "      <th>44994</th>\n",
       "      <td>Italy</td>\n",
       "      <td>This stunning wine is all about extreme elegan...</td>\n",
       "      <td>Cà d'Morissio Riserva</td>\n",
       "      <td>99</td>\n",
       "      <td>595.0</td>\n",
       "      <td>Piedmont</td>\n",
       "      <td>Barolo</td>\n",
       "      <td>NaN</td>\n",
       "      <td>Mascarello Giuseppe e Figlio 2008 Cà d'Morissi...</td>\n",
       "      <td>Nebbiolo</td>\n",
       "      <td>Mascarello Giuseppe e Figlio</td>\n",
       "    </tr>\n",
       "    <tr>\n",
       "      <th>26889</th>\n",
       "      <td>Italy</td>\n",
       "      <td>Red berry, cedar and light spice aromas lead t...</td>\n",
       "      <td>NaN</td>\n",
       "      <td>98</td>\n",
       "      <td>235.0</td>\n",
       "      <td>Tuscany</td>\n",
       "      <td>Bolgheri Sassicaia</td>\n",
       "      <td>NaN</td>\n",
       "      <td>Tenuta San Guido 2013  Bolgheri Sassicaia</td>\n",
       "      <td>Red Blend</td>\n",
       "      <td>Tenuta San Guido</td>\n",
       "    </tr>\n",
       "    <tr>\n",
       "      <th>1561</th>\n",
       "      <td>Italy</td>\n",
       "      <td>Here's a “wow” wine on every level, with incre...</td>\n",
       "      <td>Guado al Tasso</td>\n",
       "      <td>98</td>\n",
       "      <td>102.0</td>\n",
       "      <td>Tuscany</td>\n",
       "      <td>Bolgheri Superiore</td>\n",
       "      <td>NaN</td>\n",
       "      <td>Marchesi Antinori 2008 Guado al Tasso  (Bolghe...</td>\n",
       "      <td>Red Blend</td>\n",
       "      <td>Marchesi Antinori</td>\n",
       "    </tr>\n",
       "    <tr>\n",
       "      <th>16773</th>\n",
       "      <td>Italy</td>\n",
       "      <td>Classic Nebbiolo aromas of new leather, mentho...</td>\n",
       "      <td>Brunate</td>\n",
       "      <td>98</td>\n",
       "      <td>300.0</td>\n",
       "      <td>Piedmont</td>\n",
       "      <td>Barolo</td>\n",
       "      <td>NaN</td>\n",
       "      <td>Giuseppe Rinaldi 2013 Brunate  (Barolo)</td>\n",
       "      <td>Nebbiolo</td>\n",
       "      <td>Giuseppe Rinaldi</td>\n",
       "    </tr>\n",
       "    <tr>\n",
       "      <th>16772</th>\n",
       "      <td>Italy</td>\n",
       "      <td>From one of the most celebrated vineyards in t...</td>\n",
       "      <td>Vigna Rionda Riserva</td>\n",
       "      <td>98</td>\n",
       "      <td>151.0</td>\n",
       "      <td>Piedmont</td>\n",
       "      <td>Barolo</td>\n",
       "      <td>NaN</td>\n",
       "      <td>Massolino 2011 Vigna Rionda Riserva  (Barolo)</td>\n",
       "      <td>Nebbiolo</td>\n",
       "      <td>Massolino</td>\n",
       "    </tr>\n",
       "    <tr>\n",
       "      <th>16771</th>\n",
       "      <td>Italy</td>\n",
       "      <td>Always the firm's showstopper and one of the b...</td>\n",
       "      <td>Monvigliero</td>\n",
       "      <td>98</td>\n",
       "      <td>70.0</td>\n",
       "      <td>Piedmont</td>\n",
       "      <td>Barolo</td>\n",
       "      <td>NaN</td>\n",
       "      <td>Comm. G. B. Burlotto 2013 Monvigliero  (Barolo)</td>\n",
       "      <td>Nebbiolo</td>\n",
       "      <td>Comm. G. B. Burlotto</td>\n",
       "    </tr>\n",
       "    <tr>\n",
       "      <th>16770</th>\n",
       "      <td>Italy</td>\n",
       "      <td>One of the best expressions from the classic C...</td>\n",
       "      <td>Cannubi</td>\n",
       "      <td>98</td>\n",
       "      <td>60.0</td>\n",
       "      <td>Piedmont</td>\n",
       "      <td>Barolo</td>\n",
       "      <td>NaN</td>\n",
       "      <td>Brezza 2013 Cannubi  (Barolo)</td>\n",
       "      <td>Nebbiolo</td>\n",
       "      <td>Brezza</td>\n",
       "    </tr>\n",
       "    <tr>\n",
       "      <th>122937</th>\n",
       "      <td>Italy</td>\n",
       "      <td>Immensely inviting, this opens with fragrant p...</td>\n",
       "      <td>NaN</td>\n",
       "      <td>98</td>\n",
       "      <td>95.0</td>\n",
       "      <td>Tuscany</td>\n",
       "      <td>Brunello di Montalcino</td>\n",
       "      <td>NaN</td>\n",
       "      <td>Conti Costanti 2012  Brunello di Montalcino</td>\n",
       "      <td>Sangiovese</td>\n",
       "      <td>Conti Costanti</td>\n",
       "    </tr>\n",
       "  </tbody>\n",
       "</table>\n",
       "</div>"
      ],
      "text/plain": [
       "       country                                        description  \\\n",
       "7335     Italy  Thick as molasses and dark as caramelized brow...   \n",
       "45781    Italy  This gorgeous, fragrant wine opens with classi...   \n",
       "39286    Italy  A perfect wine from a classic vintage, the 200...   \n",
       "111754   Italy  It takes only a few moments before you appreci...   \n",
       "45573    Italy  Elegant and complex, this gorgeous wine is all...   \n",
       "35517    Italy  One of Italy's most iconic bottlings, the 2012...   \n",
       "122936   Italy  Perfumed berry, rose, new leather and dark spi...   \n",
       "60881    Italy  Always a standout among Gaja's five single-vin...   \n",
       "60880    Italy  This is an elegant Nebbiolo-based wine and arg...   \n",
       "39287    Italy  Here's a “wow” wine you won't easily forget. M...   \n",
       "79104    Italy  Even better than the highly acclaimed 2001 vin...   \n",
       "82750    Italy  This sweet wine from Italy is guaranteed to bl...   \n",
       "44994    Italy  This stunning wine is all about extreme elegan...   \n",
       "26889    Italy  Red berry, cedar and light spice aromas lead t...   \n",
       "1561     Italy  Here's a “wow” wine on every level, with incre...   \n",
       "16773    Italy  Classic Nebbiolo aromas of new leather, mentho...   \n",
       "16772    Italy  From one of the most celebrated vineyards in t...   \n",
       "16771    Italy  Always the firm's showstopper and one of the b...   \n",
       "16770    Italy  One of the best expressions from the classic C...   \n",
       "122937   Italy  Immensely inviting, this opens with fragrant p...   \n",
       "\n",
       "                  designation  points  price  province  \\\n",
       "7335        Occhio di Pernice     100  210.0   Tuscany   \n",
       "45781                 Riserva     100  550.0   Tuscany   \n",
       "39286                 Masseto     100  460.0   Tuscany   \n",
       "111754             Cerretalto     100  270.0   Tuscany   \n",
       "45573              Monprivato      99  175.0  Piedmont   \n",
       "35517               Sassicaia      99  235.0   Tuscany   \n",
       "122936   Madonna delle Grazie      99  200.0   Tuscany   \n",
       "60881        Sorì San Lorenzo      99  440.0  Piedmont   \n",
       "60880             Sorì Tildìn      99  440.0  Piedmont   \n",
       "39287                Messorio      99  320.0   Tuscany   \n",
       "79104                 Masseto      99  250.0   Tuscany   \n",
       "82750       Occhio di Pernice      99  237.0   Tuscany   \n",
       "44994   Cà d'Morissio Riserva      99  595.0  Piedmont   \n",
       "26889                     NaN      98  235.0   Tuscany   \n",
       "1561           Guado al Tasso      98  102.0   Tuscany   \n",
       "16773                 Brunate      98  300.0  Piedmont   \n",
       "16772    Vigna Rionda Riserva      98  151.0  Piedmont   \n",
       "16771             Monvigliero      98   70.0  Piedmont   \n",
       "16770                 Cannubi      98   60.0  Piedmont   \n",
       "122937                    NaN      98   95.0   Tuscany   \n",
       "\n",
       "                          region_1 region_2  \\\n",
       "7335    Vin Santo di Montepulciano      NaN   \n",
       "45781       Brunello di Montalcino      NaN   \n",
       "39286                      Toscana      NaN   \n",
       "111754      Brunello di Montalcino      NaN   \n",
       "45573                       Barolo      NaN   \n",
       "35517           Bolgheri Sassicaia      NaN   \n",
       "122936      Brunello di Montalcino      NaN   \n",
       "60881                       Langhe      NaN   \n",
       "60880                       Langhe      NaN   \n",
       "39287                      Toscana      NaN   \n",
       "79104                      Toscana      NaN   \n",
       "82750   Vin Santo di Montepulciano      NaN   \n",
       "44994                       Barolo      NaN   \n",
       "26889           Bolgheri Sassicaia      NaN   \n",
       "1561            Bolgheri Superiore      NaN   \n",
       "16773                       Barolo      NaN   \n",
       "16772                       Barolo      NaN   \n",
       "16771                       Barolo      NaN   \n",
       "16770                       Barolo      NaN   \n",
       "122937      Brunello di Montalcino      NaN   \n",
       "\n",
       "                                                    title            variety  \\\n",
       "7335    Avignonesi 1995 Occhio di Pernice  (Vin Santo ...   Prugnolo Gentile   \n",
       "45781   Biondi Santi 2010 Riserva  (Brunello di Montal...         Sangiovese   \n",
       "39286   Tenuta dell'Ornellaia 2007 Masseto Merlot (Tos...             Merlot   \n",
       "111754  Casanova di Neri 2007 Cerretalto  (Brunello di...  Sangiovese Grosso   \n",
       "45573   Mascarello Giuseppe e Figlio 2010 Monprivato  ...           Nebbiolo   \n",
       "35517   Tenuta San Guido 2012 Sassicaia  (Bolgheri Sas...          Red Blend   \n",
       "122936  Il Marroneto 2012 Madonna delle Grazie  (Brune...         Sangiovese   \n",
       "60881        Gaja 2007 Sorì San Lorenzo Nebbiolo (Langhe)           Nebbiolo   \n",
       "60880             Gaja 2007 Sorì Tildìn Nebbiolo (Langhe)           Nebbiolo   \n",
       "39287         Le Macchiole 2007 Messorio Merlot (Toscana)             Merlot   \n",
       "79104   Tenuta dell'Ornellaia 2004 Masseto Merlot (Tos...             Merlot   \n",
       "82750   Avignonesi 1997 Occhio di Pernice  (Vin Santo ...   Prugnolo Gentile   \n",
       "44994   Mascarello Giuseppe e Figlio 2008 Cà d'Morissi...           Nebbiolo   \n",
       "26889           Tenuta San Guido 2013  Bolgheri Sassicaia          Red Blend   \n",
       "1561    Marchesi Antinori 2008 Guado al Tasso  (Bolghe...          Red Blend   \n",
       "16773             Giuseppe Rinaldi 2013 Brunate  (Barolo)           Nebbiolo   \n",
       "16772       Massolino 2011 Vigna Rionda Riserva  (Barolo)           Nebbiolo   \n",
       "16771     Comm. G. B. Burlotto 2013 Monvigliero  (Barolo)           Nebbiolo   \n",
       "16770                       Brezza 2013 Cannubi  (Barolo)           Nebbiolo   \n",
       "122937        Conti Costanti 2012  Brunello di Montalcino         Sangiovese   \n",
       "\n",
       "                              winery  \n",
       "7335                      Avignonesi  \n",
       "45781                   Biondi Santi  \n",
       "39286          Tenuta dell'Ornellaia  \n",
       "111754              Casanova di Neri  \n",
       "45573   Mascarello Giuseppe e Figlio  \n",
       "35517               Tenuta San Guido  \n",
       "122936                  Il Marroneto  \n",
       "60881                           Gaja  \n",
       "60880                           Gaja  \n",
       "39287                   Le Macchiole  \n",
       "79104          Tenuta dell'Ornellaia  \n",
       "82750                     Avignonesi  \n",
       "44994   Mascarello Giuseppe e Figlio  \n",
       "26889               Tenuta San Guido  \n",
       "1561               Marchesi Antinori  \n",
       "16773               Giuseppe Rinaldi  \n",
       "16772                      Massolino  \n",
       "16771           Comm. G. B. Burlotto  \n",
       "16770                         Brezza  \n",
       "122937                Conti Costanti  "
      ]
     },
     "execution_count": 249,
     "metadata": {},
     "output_type": "execute_result"
    }
   ],
   "source": [
    "# Ordino in base al punteggio in modo decrescente\n",
    "italian_wines_sorted_by_points = italian_wines.sort_values(by='points', ascending=False)\n",
    "\n",
    "# Visualizzo i primi 20 risultati\n",
    "print(\"Primi 20 vini italiani ordinati per punteggio:\")\n",
    "italian_wines_sorted_by_points.head(20)"
   ]
  },
  {
   "cell_type": "markdown",
   "id": "9466a03f",
   "metadata": {},
   "source": [
    "Questi sono invece i primi 20 vini italiani, ordinando il dataset per punteggio maggiore, insieme con tutte le altre informazioni correlate. Notiamo che le regioni presenti sono solamente 2: Piemonte e Toscana, che sicuramente rappresentano l'eccellenza enologica italiana. "
   ]
  },
  {
   "cell_type": "code",
   "execution_count": 250,
   "id": "ed7eeb77",
   "metadata": {},
   "outputs": [
    {
     "name": "stdout",
     "output_type": "stream",
     "text": [
      "Occorrenze di ciascuna vigna nei primi 20 vini italiani per punteggio:\n",
      "\n",
      "Avignonesi                      2\n",
      "Tenuta dell'Ornellaia           2\n",
      "Mascarello Giuseppe e Figlio    2\n",
      "Tenuta San Guido                2\n",
      "Gaja                            2\n",
      "Biondi Santi                    1\n",
      "Casanova di Neri                1\n",
      "Il Marroneto                    1\n",
      "Le Macchiole                    1\n",
      "Marchesi Antinori               1\n",
      "Giuseppe Rinaldi                1\n",
      "Massolino                       1\n",
      "Comm. G. B. Burlotto            1\n",
      "Brezza                          1\n",
      "Conti Costanti                  1\n",
      "Name: winery, dtype: int64\n"
     ]
    }
   ],
   "source": [
    "# Conto le occorrenze di ciascuna vigna nei primi 20 dati\n",
    "winery_counts_top_20 = italian_wines_sorted_by_points.head(20)['winery'].value_counts()\n",
    "\n",
    "# Visualizzo le occorrenze \n",
    "print(\"Occorrenze di ciascuna vigna nei primi 20 vini italiani per punteggio:\\n\")\n",
    "print(winery_counts_top_20)"
   ]
  },
  {
   "cell_type": "markdown",
   "id": "01fd52b4",
   "metadata": {},
   "source": [
    "Vediamo così che ci sono 5 vigne che compaiono ben 2 volte ciascuna nei primi 20 vini eccellenti italiani. Sicuramente anche questi dati possono essere indicativi delle qualità generale della vigna, che comparendo più volte in questa classifica sicuramente dimostra di saper produrre vini esclusivi ed eccellenti."
   ]
  },
  {
   "cell_type": "markdown",
   "id": "fda6e306",
   "metadata": {},
   "source": [
    "#### Assortimento"
   ]
  },
  {
   "cell_type": "code",
   "execution_count": 251,
   "id": "38b258f7",
   "metadata": {},
   "outputs": [
    {
     "name": "stdout",
     "output_type": "stream",
     "text": [
      "Vini selezionati per la prima categoria: 40\n"
     ]
    }
   ],
   "source": [
    "# CATEGORIA 1 \n",
    "\n",
    "# Definizione delle subcategories\n",
    "categories = {\n",
    "    'Categoria1': {'score_range': [87, 88], 'price_range': (5, 20), 'count': 10},\n",
    "    'Categoria2': {'score_range': [88, 89], 'price_range': (20, 30), 'count': 15},\n",
    "    'Categoria3': {'score_range': [90, 91], 'price_range': (30, 40), 'count': 15}\n",
    "}\n",
    "\n",
    "# Inizializzazione del DataFrame per la categoria1\n",
    "categoria1_df = pd.DataFrame()\n",
    "\n",
    "# Selezione dei vini per ogni categoria\n",
    "for category, params in categories.items():\n",
    "    selected_wines = italian_wines[\n",
    "        (italian_wines['points'].isin(params['score_range'])) &\n",
    "        (italian_wines['price'] >= params['price_range'][0]) &\n",
    "        (italian_wines['price'] <= params['price_range'][1])\n",
    "    ].sample(n=params['count'])\n",
    "    \n",
    "    # Aggiunta dei vini selezionati alla categoria1\n",
    "    categoria1_df = pd.concat([categoria1_df, selected_wines])\n",
    "\n",
    "# Visualizza i vini selezionati per la categoria1\n",
    "print(f\"Vini selezionati per la prima categoria: {len(categoria1_df)}\")\n"
   ]
  },
  {
   "cell_type": "code",
   "execution_count": 252,
   "id": "20894980",
   "metadata": {},
   "outputs": [
    {
     "name": "stdout",
     "output_type": "stream",
     "text": [
      "Vini selezionati per la seconda categoria: 30\n"
     ]
    }
   ],
   "source": [
    "# CATEGORIA 2\n",
    "\n",
    "# Definizione delle subcategories\n",
    "categories2 = {\n",
    "    'Categoria2': {'score_range': [94, 93, 92], 'price_range': (30, 50), 'count_per_province': 1},\n",
    "    'Categoria2_Extra': {'score_range': [97, 96, 95], 'price_range': (50, 100 ), 'count_extra': 20}\n",
    "}\n",
    "\n",
    "# Inizializzazione del DataFrame per la categoria2\n",
    "categoria2_df = pd.DataFrame()\n",
    "\n",
    "# Selezione dei vini per ogni categoria\n",
    "for category, params in categories2.items():\n",
    "    selected_wines = pd.DataFrame()\n",
    "    for province in province_stats.index:\n",
    "        province_wines = italian_wines[\n",
    "            (italian_wines['points'].isin(params['score_range'])) &\n",
    "            (italian_wines['price'] >= params['price_range'][0]) &\n",
    "            (italian_wines['price'] <= params['price_range'][1]) &\n",
    "            (italian_wines['province'] == province)\n",
    "        ]\n",
    "        \n",
    "        if len(province_wines) > 0:\n",
    "            selected_wine = province_wines.sample(n=1)\n",
    "            selected_wines = pd.concat([selected_wines, selected_wine])\n",
    "    \n",
    "    # Aggiunta dei vini selezionati alla categoria2\n",
    "    categoria2_df = pd.concat([categoria2_df, selected_wines])\n",
    "    \n",
    "    # Seleziono altri vini senza tener conto della provincia\n",
    "    remaining_count = params.get('count_extra', 0)\n",
    "    remaining_wines = italian_wines[\n",
    "        (italian_wines['points'].isin(params['score_range'])) &\n",
    "        (italian_wines['price'] >= params['price_range'][0]) &\n",
    "        (italian_wines['price'] <= params['price_range'][1])\n",
    "    ].sample(n=remaining_count, replace=True)\n",
    "    \n",
    "    # Aggiunta dei vini selezionati alla categoria2\n",
    "    categoria2_df = pd.concat([categoria2_df, remaining_wines])\n",
    "\n",
    "# Assicuro che siano esattamente 30 vini\n",
    "categoria2_df = categoria2_df.sample(n=30, replace=True)\n",
    "\n",
    "# Visualizza i vini selezionati per la categoria2\n",
    "print(f\"Vini selezionati per la seconda categoria: {len(categoria2_df)}\")\n"
   ]
  },
  {
   "cell_type": "code",
   "execution_count": 253,
   "id": "e7ef5ce6",
   "metadata": {},
   "outputs": [
    {
     "name": "stdout",
     "output_type": "stream",
     "text": [
      "Vini selezionati per la terza categoria: 20\n"
     ]
    }
   ],
   "source": [
    "# CATEGORIA 3\n",
    "\n",
    "# Lista delle vigne delle quali selezionare i vini\n",
    "selected_wineries = winery_counts_top_20.index.tolist()\n",
    "\n",
    "# Seleziono i vini di eccellente qualità per le vigne selezionate\n",
    "categoria3_df = italian_wines[\n",
    "    (italian_wines['points'].isin([100, 99, 98])) &\n",
    "    (italian_wines['winery'].isin(selected_wineries))\n",
    "].sample(n=20, replace=True)\n",
    "\n",
    "# Visualizza i vini selezionati per la categoria3\n",
    "print(f\"Vini selezionati per la terza categoria: {len(categoria3_df)}\")"
   ]
  },
  {
   "cell_type": "code",
   "execution_count": 254,
   "id": "69ec536a",
   "metadata": {},
   "outputs": [
    {
     "name": "stdout",
     "output_type": "stream",
     "text": [
      "Vini selezionati per la quarta categoria: 10\n"
     ]
    }
   ],
   "source": [
    "# CATEGORIA 4\n",
    "\n",
    "# Ordino il dataset iniziale in modo decrescente per punteggio\n",
    "world_wines_sorted = data.sort_values(by='points', ascending=False)\n",
    "\n",
    "# Escludi i vini italiani\n",
    "categoria4_df = world_wines_sorted[world_wines_sorted['country'] != 'Italy']\n",
    "\n",
    "# Seleziono i primi 10 vini per punteggio\n",
    "categoria4_df = categoria4_df.head(10)\n",
    "\n",
    "# Visualizza i vini selezionati per la categoria4\n",
    "print(f\"Vini selezionati per la quarta categoria: {len(categoria4_df)}\")\n"
   ]
  },
  {
   "cell_type": "code",
   "execution_count": 255,
   "id": "e69017c9",
   "metadata": {},
   "outputs": [
    {
     "name": "stdout",
     "output_type": "stream",
     "text": [
      "Numero totale di vini nell'assortimento iniziale: 100\n"
     ]
    }
   ],
   "source": [
    "# Concateno i DataFrame delle quattro categorie\n",
    "assortimento_iniziale = pd.concat([categoria1_df, categoria2_df, categoria3_df, categoria4_df], ignore_index=True)\n",
    "\n",
    "# Conto il numero totale di vini nell'assortimento iniziale\n",
    "numero_totale_vini = len(assortimento_iniziale)\n",
    "\n",
    "# Visualizza il numero totale di vini\n",
    "print(f\"Numero totale di vini nell'assortimento iniziale: {numero_totale_vini}\")"
   ]
  },
  {
   "cell_type": "code",
   "execution_count": 256,
   "id": "5d1439e9",
   "metadata": {},
   "outputs": [
    {
     "data": {
      "text/html": [
       "<div>\n",
       "<style scoped>\n",
       "    .dataframe tbody tr th:only-of-type {\n",
       "        vertical-align: middle;\n",
       "    }\n",
       "\n",
       "    .dataframe tbody tr th {\n",
       "        vertical-align: top;\n",
       "    }\n",
       "\n",
       "    .dataframe thead th {\n",
       "        text-align: right;\n",
       "    }\n",
       "</style>\n",
       "<table border=\"1\" class=\"dataframe\">\n",
       "  <thead>\n",
       "    <tr style=\"text-align: right;\">\n",
       "      <th></th>\n",
       "      <th>points</th>\n",
       "      <th>price</th>\n",
       "    </tr>\n",
       "  </thead>\n",
       "  <tbody>\n",
       "    <tr>\n",
       "      <th>count</th>\n",
       "      <td>100.000000</td>\n",
       "      <td>100.000000</td>\n",
       "    </tr>\n",
       "    <tr>\n",
       "      <th>mean</th>\n",
       "      <td>93.720000</td>\n",
       "      <td>138.370000</td>\n",
       "    </tr>\n",
       "    <tr>\n",
       "      <th>std</th>\n",
       "      <td>4.476831</td>\n",
       "      <td>242.553073</td>\n",
       "    </tr>\n",
       "    <tr>\n",
       "      <th>min</th>\n",
       "      <td>87.000000</td>\n",
       "      <td>13.000000</td>\n",
       "    </tr>\n",
       "    <tr>\n",
       "      <th>25%</th>\n",
       "      <td>89.750000</td>\n",
       "      <td>30.000000</td>\n",
       "    </tr>\n",
       "    <tr>\n",
       "      <th>50%</th>\n",
       "      <td>95.000000</td>\n",
       "      <td>59.500000</td>\n",
       "    </tr>\n",
       "    <tr>\n",
       "      <th>75%</th>\n",
       "      <td>98.000000</td>\n",
       "      <td>97.000000</td>\n",
       "    </tr>\n",
       "    <tr>\n",
       "      <th>max</th>\n",
       "      <td>100.000000</td>\n",
       "      <td>1500.000000</td>\n",
       "    </tr>\n",
       "  </tbody>\n",
       "</table>\n",
       "</div>"
      ],
      "text/plain": [
       "           points        price\n",
       "count  100.000000   100.000000\n",
       "mean    93.720000   138.370000\n",
       "std      4.476831   242.553073\n",
       "min     87.000000    13.000000\n",
       "25%     89.750000    30.000000\n",
       "50%     95.000000    59.500000\n",
       "75%     98.000000    97.000000\n",
       "max    100.000000  1500.000000"
      ]
     },
     "execution_count": 256,
     "metadata": {},
     "output_type": "execute_result"
    }
   ],
   "source": [
    "assortimento_iniziale.describe()"
   ]
  },
  {
   "cell_type": "markdown",
   "id": "2d9de254",
   "metadata": {},
   "source": [
    "Il nostro dataframe contenente l'assortimento iniziale è pronto per essere ulteriormente analizzato e perfezionato in una fase successiva, che esula però dagli obiettivi di questo progetto. La suddivisione della selezione in diverse categorie con obiettivi e target facilmente modificabili, ne faciliterà la messa a punto in un secondo momento. "
   ]
  },
  {
   "cell_type": "code",
   "execution_count": 257,
   "id": "efb41220",
   "metadata": {},
   "outputs": [
    {
     "data": {
      "text/plain": [
       "<Figure size 720x432 with 0 Axes>"
      ]
     },
     "metadata": {},
     "output_type": "display_data"
    },
    {
     "data": {
      "image/png": "[encoded data removed]",
      "text/plain": [
       "<Figure size 432x432 with 3 Axes>"
      ]
     },
     "metadata": {},
     "output_type": "display_data"
    }
   ],
   "source": [
    "# jointplot assortimento_iniziale\n",
    "plt.figure(figsize=(10, 6))\n",
    "sns.jointplot(x='points', y='price', data=assortimento_iniziale, kind='scatter')\n",
    "plt.show()"
   ]
  },
  {
   "cell_type": "markdown",
   "id": "e55cf800",
   "metadata": {},
   "source": [
    "#### Conclusioni"
   ]
  },
  {
   "cell_type": "markdown",
   "id": "86d5e018",
   "metadata": {},
   "source": [
    "Dalla nostra analisi, è emerso chiaramente che il mondo del vino offre una diversità straordinaria, con una vasta gamma di varietà di uve e vigne provenienti da differenti aree geografiche. Abbiamo individuato correlazioni interessanti tra variabili come il punteggio assegnato al vino, il prezzo, la varietà e la provenienza. \n",
    "L'output del mio lavoro è una strategia di assortimento per un ipotetico marketplace del vino. Questa strategia è basata su una selezione attenta e diversificata di 100 vini: rappresenta l'essenza dell'eccellenza vinicola, includendo varietà di uve raffinate provenienti da rinomate vigne, accuratamente selezionate per soddisfare le diverse preferenze dei nostri clienti. Una particolare attenzione è stata rivolta all'inclusione di vini provenienti da tutte le località italiane, rappresentando così le varie sfumature regionali e tradizioni enologiche dell'Italia. Questa scelta strategica ci permette di presentare ai nostri clienti un vero e proprio viaggio attraverso le rinomate cantine italiane."
   ]
  }
 ],
 "metadata": {
  "kernelspec": {
   "display_name": "Python 3 (ipykernel)",
   "language": "python",
   "name": "python3"
  },
  "language_info": {
   "codemirror_mode": {
    "name": "ipython",
    "version": 3
   },
   "file_extension": ".py",
   "mimetype": "text/x-python",
   "name": "python",
   "nbconvert_exporter": "python",
   "pygments_lexer": "ipython3",
   "version": "3.9.12"
  }
 },
 "nbformat": 4,
 "nbformat_minor": 5
}
